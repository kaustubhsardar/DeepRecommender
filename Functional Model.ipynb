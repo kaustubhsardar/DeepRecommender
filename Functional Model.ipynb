{
 "cells": [
  {
   "cell_type": "markdown",
   "metadata": {},
   "source": [
    "## Load required libraries"
   ]
  },
  {
   "cell_type": "code",
   "execution_count": 1,
   "metadata": {},
   "outputs": [
    {
     "name": "stderr",
     "output_type": "stream",
     "text": [
      "Using TensorFlow backend.\n"
     ]
    }
   ],
   "source": [
    "import keras # imports keras and tensorflow as backend\n",
    "\n",
    "import numpy as np\n",
    "import pandas as pd\n",
    "\n",
    "import os\n",
    "import time\n",
    "\n",
    "from keras.models import Model, Sequential\n",
    "from keras.layers import Input, Dense, Dropout, Activation\n",
    "from keras.callbacks import TensorBoard\n",
    "import keras.backend as K\n",
    "\n",
    "# from keras.utils import plot_model"
   ]
  },
  {
   "cell_type": "markdown",
   "metadata": {},
   "source": [
    "## Save tensorboard logs with different runs.\n",
    "### Run everytime when running model."
   ]
  },
  {
   "cell_type": "code",
   "execution_count": 2,
   "metadata": {},
   "outputs": [],
   "source": [
    "NAME = \"DeepRecommender-Functional-{}\".format(int(time.time()))\n",
    "\n",
    "tensorboard = TensorBoard(log_dir='./logs/{}'.format(NAME))"
   ]
  },
  {
   "cell_type": "markdown",
   "metadata": {},
   "source": [
    "## Set Data Paths"
   ]
  },
  {
   "cell_type": "code",
   "execution_count": 3,
   "metadata": {},
   "outputs": [],
   "source": [
    "DATA_DIR = './nf_data'\n",
    "\n",
    "nf_3m_train = os.path.join(DATA_DIR, 'N3M_TRAIN', 'n3m.train.txt')\n",
    "nf_3m_valid = os.path.join(DATA_DIR, 'N3M_VALID', 'n3m.valid.txt')\n",
    "nf_3m_test = os.path.join(DATA_DIR, 'N3M_TEST', 'n3m.test.txt')"
   ]
  },
  {
   "cell_type": "markdown",
   "metadata": {},
   "source": [
    "## Load Data"
   ]
  },
  {
   "cell_type": "code",
   "execution_count": 4,
   "metadata": {},
   "outputs": [
    {
     "name": "stdout",
     "output_type": "stream",
     "text": [
      "(13675402, 3)\n"
     ]
    },
    {
     "data": {
      "text/html": [
       "<div>\n",
       "<style scoped>\n",
       "    .dataframe tbody tr th:only-of-type {\n",
       "        vertical-align: middle;\n",
       "    }\n",
       "\n",
       "    .dataframe tbody tr th {\n",
       "        vertical-align: top;\n",
       "    }\n",
       "\n",
       "    .dataframe thead th {\n",
       "        text-align: right;\n",
       "    }\n",
       "</style>\n",
       "<table border=\"1\" class=\"dataframe\">\n",
       "  <thead>\n",
       "    <tr style=\"text-align: right;\">\n",
       "      <th></th>\n",
       "      <th>CustomerID</th>\n",
       "      <th>MovieID</th>\n",
       "      <th>Rating</th>\n",
       "    </tr>\n",
       "  </thead>\n",
       "  <tbody>\n",
       "    <tr>\n",
       "      <th>0</th>\n",
       "      <td>0</td>\n",
       "      <td>4884</td>\n",
       "      <td>4.0</td>\n",
       "    </tr>\n",
       "    <tr>\n",
       "      <th>1</th>\n",
       "      <td>0</td>\n",
       "      <td>5332</td>\n",
       "      <td>4.0</td>\n",
       "    </tr>\n",
       "    <tr>\n",
       "      <th>2</th>\n",
       "      <td>0</td>\n",
       "      <td>5633</td>\n",
       "      <td>4.0</td>\n",
       "    </tr>\n",
       "    <tr>\n",
       "      <th>3</th>\n",
       "      <td>0</td>\n",
       "      <td>6642</td>\n",
       "      <td>4.0</td>\n",
       "    </tr>\n",
       "    <tr>\n",
       "      <th>4</th>\n",
       "      <td>0</td>\n",
       "      <td>6922</td>\n",
       "      <td>4.0</td>\n",
       "    </tr>\n",
       "  </tbody>\n",
       "</table>\n",
       "</div>"
      ],
      "text/plain": [
       "   CustomerID  MovieID  Rating\n",
       "0           0     4884     4.0\n",
       "1           0     5332     4.0\n",
       "2           0     5633     4.0\n",
       "3           0     6642     4.0\n",
       "4           0     6922     4.0"
      ]
     },
     "execution_count": 4,
     "metadata": {},
     "output_type": "execute_result"
    }
   ],
   "source": [
    "df_train = pd.read_csv(nf_3m_train, names=['CustomerID','MovieID','Rating'], sep='\\t')\n",
    "print(df_train.shape)\n",
    "df_train.head()"
   ]
  },
  {
   "cell_type": "code",
   "execution_count": 5,
   "metadata": {},
   "outputs": [
    {
     "name": "stdout",
     "output_type": "stream",
     "text": [
      "(1042131, 3)\n"
     ]
    },
    {
     "data": {
      "text/html": [
       "<div>\n",
       "<style scoped>\n",
       "    .dataframe tbody tr th:only-of-type {\n",
       "        vertical-align: middle;\n",
       "    }\n",
       "\n",
       "    .dataframe tbody tr th {\n",
       "        vertical-align: top;\n",
       "    }\n",
       "\n",
       "    .dataframe thead th {\n",
       "        text-align: right;\n",
       "    }\n",
       "</style>\n",
       "<table border=\"1\" class=\"dataframe\">\n",
       "  <thead>\n",
       "    <tr style=\"text-align: right;\">\n",
       "      <th></th>\n",
       "      <th>CustomerID</th>\n",
       "      <th>MovieID</th>\n",
       "      <th>Rating</th>\n",
       "    </tr>\n",
       "  </thead>\n",
       "  <tbody>\n",
       "    <tr>\n",
       "      <th>0</th>\n",
       "      <td>0</td>\n",
       "      <td>1012</td>\n",
       "      <td>4.0</td>\n",
       "    </tr>\n",
       "    <tr>\n",
       "      <th>1</th>\n",
       "      <td>0</td>\n",
       "      <td>2977</td>\n",
       "      <td>4.0</td>\n",
       "    </tr>\n",
       "    <tr>\n",
       "      <th>2</th>\n",
       "      <td>0</td>\n",
       "      <td>4101</td>\n",
       "      <td>4.0</td>\n",
       "    </tr>\n",
       "    <tr>\n",
       "      <th>3</th>\n",
       "      <td>0</td>\n",
       "      <td>15858</td>\n",
       "      <td>4.0</td>\n",
       "    </tr>\n",
       "    <tr>\n",
       "      <th>4</th>\n",
       "      <td>0</td>\n",
       "      <td>16629</td>\n",
       "      <td>4.0</td>\n",
       "    </tr>\n",
       "  </tbody>\n",
       "</table>\n",
       "</div>"
      ],
      "text/plain": [
       "   CustomerID  MovieID  Rating\n",
       "0           0     1012     4.0\n",
       "1           0     2977     4.0\n",
       "2           0     4101     4.0\n",
       "3           0    15858     4.0\n",
       "4           0    16629     4.0"
      ]
     },
     "execution_count": 5,
     "metadata": {},
     "output_type": "execute_result"
    }
   ],
   "source": [
    "df_valid = pd.read_csv(nf_3m_valid, names=['CustomerID','MovieID','Rating'], sep='\\t')\n",
    "print(df_valid.shape)\n",
    "df_valid.head()"
   ]
  },
  {
   "cell_type": "code",
   "execution_count": 6,
   "metadata": {},
   "outputs": [
    {
     "name": "stdout",
     "output_type": "stream",
     "text": [
      "(1040428, 3)\n"
     ]
    },
    {
     "data": {
      "text/html": [
       "<div>\n",
       "<style scoped>\n",
       "    .dataframe tbody tr th:only-of-type {\n",
       "        vertical-align: middle;\n",
       "    }\n",
       "\n",
       "    .dataframe tbody tr th {\n",
       "        vertical-align: top;\n",
       "    }\n",
       "\n",
       "    .dataframe thead th {\n",
       "        text-align: right;\n",
       "    }\n",
       "</style>\n",
       "<table border=\"1\" class=\"dataframe\">\n",
       "  <thead>\n",
       "    <tr style=\"text-align: right;\">\n",
       "      <th></th>\n",
       "      <th>CustomerID</th>\n",
       "      <th>MovieID</th>\n",
       "      <th>Rating</th>\n",
       "    </tr>\n",
       "  </thead>\n",
       "  <tbody>\n",
       "    <tr>\n",
       "      <th>0</th>\n",
       "      <td>0</td>\n",
       "      <td>9529</td>\n",
       "      <td>5.0</td>\n",
       "    </tr>\n",
       "    <tr>\n",
       "      <th>1</th>\n",
       "      <td>0</td>\n",
       "      <td>3363</td>\n",
       "      <td>4.0</td>\n",
       "    </tr>\n",
       "    <tr>\n",
       "      <th>2</th>\n",
       "      <td>0</td>\n",
       "      <td>5837</td>\n",
       "      <td>4.0</td>\n",
       "    </tr>\n",
       "    <tr>\n",
       "      <th>3</th>\n",
       "      <td>0</td>\n",
       "      <td>6017</td>\n",
       "      <td>4.0</td>\n",
       "    </tr>\n",
       "    <tr>\n",
       "      <th>4</th>\n",
       "      <td>0</td>\n",
       "      <td>10476</td>\n",
       "      <td>4.0</td>\n",
       "    </tr>\n",
       "  </tbody>\n",
       "</table>\n",
       "</div>"
      ],
      "text/plain": [
       "   CustomerID  MovieID  Rating\n",
       "0           0     9529     5.0\n",
       "1           0     3363     4.0\n",
       "2           0     5837     4.0\n",
       "3           0     6017     4.0\n",
       "4           0    10476     4.0"
      ]
     },
     "execution_count": 6,
     "metadata": {},
     "output_type": "execute_result"
    }
   ],
   "source": [
    "df_test = pd.read_csv(nf_3m_test, names=['CustomerID','MovieID','Rating'], sep='\\t')\n",
    "print(df_test.shape)\n",
    "df_test.head()"
   ]
  },
  {
   "cell_type": "markdown",
   "metadata": {},
   "source": [
    "## Build Customer and Movie Maps (train)"
   ]
  },
  {
   "cell_type": "code",
   "execution_count": 7,
   "metadata": {},
   "outputs": [
    {
     "data": {
      "text/plain": [
       "22203"
      ]
     },
     "execution_count": 7,
     "metadata": {},
     "output_type": "execute_result"
    }
   ],
   "source": [
    "customer_map = df_train.CustomerID.unique()\n",
    "customer_map.sort()\n",
    "customer_map = customer_map[0:17550]\n",
    "#user_map\n",
    "num_users = len(customer_map)\n",
    "customer_map[-1]"
   ]
  },
  {
   "cell_type": "code",
   "execution_count": 8,
   "metadata": {},
   "outputs": [
    {
     "data": {
      "text/plain": [
       "1000"
      ]
     },
     "execution_count": 8,
     "metadata": {},
     "output_type": "execute_result"
    }
   ],
   "source": [
    "movie_map = df_train.MovieID.unique()\n",
    "movie_map.sort()\n",
    "movie_map = movie_map[0:1000]\n",
    "#movie_map\n",
    "num_movies = len(movie_map)\n",
    "movie_map[-1]"
   ]
  },
  {
   "cell_type": "markdown",
   "metadata": {},
   "source": [
    "## Preprocess Data to create User-Movie Matrix (train)\n",
    "### Uncomment to see how data is preprocessed."
   ]
  },
  {
   "cell_type": "code",
   "execution_count": 9,
   "metadata": {},
   "outputs": [],
   "source": [
    "# file = open('matrix_train.csv','w')\n",
    "\n",
    "# def temp(i):\n",
    "#     return np.where(movie_map == i)[0][0]\n",
    "\n",
    "\n",
    "# for id_user in customer_map:\n",
    "#     id_movie = df_train.iloc[:,1][(df_train.iloc[:,0]==id_user) & (df_train.iloc[:,1]<=1000)]\n",
    "#     id_movie = id_movie.apply(temp)\n",
    "#     id_rating=df_train.iloc[:,2][(df_train.iloc[:,0]==id_user) & (df_train.iloc[:,1]<=1000)]\n",
    "#     ratings=np.zeros(num_movies, dtype=np.uint32)\n",
    "#     ratings[id_movie-1]=id_rating\n",
    "#     if sum(ratings)==0:\n",
    "#         continue\n",
    "#     ratings=pd.DataFrame(ratings.reshape(-1, len(ratings)))\n",
    "#     file.write(ratings.to_csv(index=False, header=False))\n",
    "#     del id_movie\n",
    "#     del id_rating\n",
    "#     del ratings\n",
    "\n",
    "\n",
    "# file.close()\n"
   ]
  },
  {
   "cell_type": "code",
   "execution_count": 10,
   "metadata": {},
   "outputs": [
    {
     "name": "stdout",
     "output_type": "stream",
     "text": [
      "(13118, 1000)\n"
     ]
    },
    {
     "data": {
      "text/html": [
       "<div>\n",
       "<style scoped>\n",
       "    .dataframe tbody tr th:only-of-type {\n",
       "        vertical-align: middle;\n",
       "    }\n",
       "\n",
       "    .dataframe tbody tr th {\n",
       "        vertical-align: top;\n",
       "    }\n",
       "\n",
       "    .dataframe thead th {\n",
       "        text-align: right;\n",
       "    }\n",
       "</style>\n",
       "<table border=\"1\" class=\"dataframe\">\n",
       "  <thead>\n",
       "    <tr style=\"text-align: right;\">\n",
       "      <th></th>\n",
       "      <th>0</th>\n",
       "      <th>1</th>\n",
       "      <th>2</th>\n",
       "      <th>3</th>\n",
       "      <th>4</th>\n",
       "      <th>5</th>\n",
       "      <th>6</th>\n",
       "      <th>7</th>\n",
       "      <th>8</th>\n",
       "      <th>9</th>\n",
       "      <th>...</th>\n",
       "      <th>990</th>\n",
       "      <th>991</th>\n",
       "      <th>992</th>\n",
       "      <th>993</th>\n",
       "      <th>994</th>\n",
       "      <th>995</th>\n",
       "      <th>996</th>\n",
       "      <th>997</th>\n",
       "      <th>998</th>\n",
       "      <th>999</th>\n",
       "    </tr>\n",
       "  </thead>\n",
       "  <tbody>\n",
       "    <tr>\n",
       "      <th>0</th>\n",
       "      <td>0</td>\n",
       "      <td>0</td>\n",
       "      <td>0</td>\n",
       "      <td>0</td>\n",
       "      <td>0</td>\n",
       "      <td>0</td>\n",
       "      <td>0</td>\n",
       "      <td>0</td>\n",
       "      <td>0</td>\n",
       "      <td>0</td>\n",
       "      <td>...</td>\n",
       "      <td>0</td>\n",
       "      <td>0</td>\n",
       "      <td>0</td>\n",
       "      <td>0</td>\n",
       "      <td>0</td>\n",
       "      <td>0</td>\n",
       "      <td>0</td>\n",
       "      <td>0</td>\n",
       "      <td>0</td>\n",
       "      <td>0</td>\n",
       "    </tr>\n",
       "    <tr>\n",
       "      <th>1</th>\n",
       "      <td>0</td>\n",
       "      <td>0</td>\n",
       "      <td>0</td>\n",
       "      <td>0</td>\n",
       "      <td>0</td>\n",
       "      <td>0</td>\n",
       "      <td>0</td>\n",
       "      <td>0</td>\n",
       "      <td>0</td>\n",
       "      <td>0</td>\n",
       "      <td>...</td>\n",
       "      <td>0</td>\n",
       "      <td>0</td>\n",
       "      <td>0</td>\n",
       "      <td>0</td>\n",
       "      <td>0</td>\n",
       "      <td>0</td>\n",
       "      <td>0</td>\n",
       "      <td>0</td>\n",
       "      <td>0</td>\n",
       "      <td>0</td>\n",
       "    </tr>\n",
       "    <tr>\n",
       "      <th>2</th>\n",
       "      <td>0</td>\n",
       "      <td>0</td>\n",
       "      <td>0</td>\n",
       "      <td>0</td>\n",
       "      <td>0</td>\n",
       "      <td>0</td>\n",
       "      <td>0</td>\n",
       "      <td>0</td>\n",
       "      <td>0</td>\n",
       "      <td>0</td>\n",
       "      <td>...</td>\n",
       "      <td>0</td>\n",
       "      <td>0</td>\n",
       "      <td>0</td>\n",
       "      <td>0</td>\n",
       "      <td>0</td>\n",
       "      <td>0</td>\n",
       "      <td>0</td>\n",
       "      <td>0</td>\n",
       "      <td>0</td>\n",
       "      <td>0</td>\n",
       "    </tr>\n",
       "    <tr>\n",
       "      <th>3</th>\n",
       "      <td>0</td>\n",
       "      <td>0</td>\n",
       "      <td>0</td>\n",
       "      <td>0</td>\n",
       "      <td>0</td>\n",
       "      <td>0</td>\n",
       "      <td>0</td>\n",
       "      <td>0</td>\n",
       "      <td>0</td>\n",
       "      <td>0</td>\n",
       "      <td>...</td>\n",
       "      <td>0</td>\n",
       "      <td>0</td>\n",
       "      <td>0</td>\n",
       "      <td>0</td>\n",
       "      <td>0</td>\n",
       "      <td>0</td>\n",
       "      <td>0</td>\n",
       "      <td>0</td>\n",
       "      <td>0</td>\n",
       "      <td>0</td>\n",
       "    </tr>\n",
       "    <tr>\n",
       "      <th>4</th>\n",
       "      <td>0</td>\n",
       "      <td>0</td>\n",
       "      <td>0</td>\n",
       "      <td>0</td>\n",
       "      <td>0</td>\n",
       "      <td>0</td>\n",
       "      <td>0</td>\n",
       "      <td>0</td>\n",
       "      <td>0</td>\n",
       "      <td>0</td>\n",
       "      <td>...</td>\n",
       "      <td>0</td>\n",
       "      <td>0</td>\n",
       "      <td>0</td>\n",
       "      <td>0</td>\n",
       "      <td>0</td>\n",
       "      <td>0</td>\n",
       "      <td>0</td>\n",
       "      <td>0</td>\n",
       "      <td>0</td>\n",
       "      <td>0</td>\n",
       "    </tr>\n",
       "  </tbody>\n",
       "</table>\n",
       "<p>5 rows × 1000 columns</p>\n",
       "</div>"
      ],
      "text/plain": [
       "   0    1    2    3    4    5    6    7    8    9   ...   990  991  992  993  \\\n",
       "0    0    0    0    0    0    0    0    0    0    0 ...     0    0    0    0   \n",
       "1    0    0    0    0    0    0    0    0    0    0 ...     0    0    0    0   \n",
       "2    0    0    0    0    0    0    0    0    0    0 ...     0    0    0    0   \n",
       "3    0    0    0    0    0    0    0    0    0    0 ...     0    0    0    0   \n",
       "4    0    0    0    0    0    0    0    0    0    0 ...     0    0    0    0   \n",
       "\n",
       "   994  995  996  997  998  999  \n",
       "0    0    0    0    0    0    0  \n",
       "1    0    0    0    0    0    0  \n",
       "2    0    0    0    0    0    0  \n",
       "3    0    0    0    0    0    0  \n",
       "4    0    0    0    0    0    0  \n",
       "\n",
       "[5 rows x 1000 columns]"
      ]
     },
     "execution_count": 10,
     "metadata": {},
     "output_type": "execute_result"
    }
   ],
   "source": [
    "X = pd.read_csv('matrix_train.csv', header=None)\n",
    "print(X.shape)\n",
    "X.head()"
   ]
  },
  {
   "cell_type": "code",
   "execution_count": 11,
   "metadata": {},
   "outputs": [
    {
     "data": {
      "text/plain": [
       "(13118, 1000)"
      ]
     },
     "execution_count": 11,
     "metadata": {},
     "output_type": "execute_result"
    }
   ],
   "source": [
    "X.shape"
   ]
  },
  {
   "cell_type": "markdown",
   "metadata": {},
   "source": [
    "## Build Customer and Movie Maps (validation)"
   ]
  },
  {
   "cell_type": "code",
   "execution_count": 12,
   "metadata": {},
   "outputs": [
    {
     "data": {
      "text/plain": [
       "14710"
      ]
     },
     "execution_count": 12,
     "metadata": {},
     "output_type": "execute_result"
    }
   ],
   "source": [
    "customer_map = df_valid.CustomerID.unique()\n",
    "customer_map.sort()\n",
    "customer_map = customer_map[:7020]\n",
    "num_users = len(customer_map)\n",
    "customer_map[-1]"
   ]
  },
  {
   "cell_type": "code",
   "execution_count": 13,
   "metadata": {},
   "outputs": [
    {
     "data": {
      "text/plain": [
       "1000"
      ]
     },
     "execution_count": 13,
     "metadata": {},
     "output_type": "execute_result"
    }
   ],
   "source": [
    "movie_map = df_valid.MovieID.unique()\n",
    "movie_map.sort()\n",
    "movie_map = movie_map[:895]\n",
    "#movie_map\n",
    "num_movies = len(movie_map)\n",
    "movie_map[-1]"
   ]
  },
  {
   "cell_type": "markdown",
   "metadata": {},
   "source": [
    "## Preprocess Data to create User-Movie Matrix (validation)\n",
    "### Uncomment to see how data is preprocessed."
   ]
  },
  {
   "cell_type": "code",
   "execution_count": 14,
   "metadata": {},
   "outputs": [],
   "source": [
    "# file = open('matrix_valid.csv','w')\n",
    "\n",
    "# def temp(i):\n",
    "#     return np.where(movie_map == i)[0][0]\n",
    "\n",
    "\n",
    "# for id_user in customer_map:\n",
    "#     id_movie = df_valid.iloc[:,1][(df_valid.iloc[:,0]==id_user) & (df_valid.iloc[:,1]<=1000)]\n",
    "#     id_movie = id_movie.apply(temp)\n",
    "#     id_rating=df_valid.iloc[:,2][(df_valid.iloc[:,0]==id_user) & (df_valid.iloc[:,1]<=1000)]\n",
    "#     ratings=np.zeros(1000, dtype=np.uint32)\n",
    "#     ratings[id_movie-1]=id_rating\n",
    "#     if sum(ratings)==0:\n",
    "#         continue\n",
    "#     ratings=pd.DataFrame(ratings.reshape(-1, len(ratings)))\n",
    "#     file.write(ratings.to_csv(index=False, header=False))\n",
    "#     del id_movie\n",
    "#     del id_rating\n",
    "#     del ratings\n",
    "\n",
    "\n",
    "# file.close()"
   ]
  },
  {
   "cell_type": "code",
   "execution_count": 15,
   "metadata": {},
   "outputs": [
    {
     "name": "stdout",
     "output_type": "stream",
     "text": [
      "(2255, 1000)\n"
     ]
    },
    {
     "data": {
      "text/html": [
       "<div>\n",
       "<style scoped>\n",
       "    .dataframe tbody tr th:only-of-type {\n",
       "        vertical-align: middle;\n",
       "    }\n",
       "\n",
       "    .dataframe tbody tr th {\n",
       "        vertical-align: top;\n",
       "    }\n",
       "\n",
       "    .dataframe thead th {\n",
       "        text-align: right;\n",
       "    }\n",
       "</style>\n",
       "<table border=\"1\" class=\"dataframe\">\n",
       "  <thead>\n",
       "    <tr style=\"text-align: right;\">\n",
       "      <th></th>\n",
       "      <th>0</th>\n",
       "      <th>1</th>\n",
       "      <th>2</th>\n",
       "      <th>3</th>\n",
       "      <th>4</th>\n",
       "      <th>5</th>\n",
       "      <th>6</th>\n",
       "      <th>7</th>\n",
       "      <th>8</th>\n",
       "      <th>9</th>\n",
       "      <th>...</th>\n",
       "      <th>990</th>\n",
       "      <th>991</th>\n",
       "      <th>992</th>\n",
       "      <th>993</th>\n",
       "      <th>994</th>\n",
       "      <th>995</th>\n",
       "      <th>996</th>\n",
       "      <th>997</th>\n",
       "      <th>998</th>\n",
       "      <th>999</th>\n",
       "    </tr>\n",
       "  </thead>\n",
       "  <tbody>\n",
       "    <tr>\n",
       "      <th>0</th>\n",
       "      <td>0</td>\n",
       "      <td>0</td>\n",
       "      <td>0</td>\n",
       "      <td>0</td>\n",
       "      <td>0</td>\n",
       "      <td>0</td>\n",
       "      <td>0</td>\n",
       "      <td>0</td>\n",
       "      <td>0</td>\n",
       "      <td>0</td>\n",
       "      <td>...</td>\n",
       "      <td>0</td>\n",
       "      <td>0</td>\n",
       "      <td>0</td>\n",
       "      <td>0</td>\n",
       "      <td>0</td>\n",
       "      <td>0</td>\n",
       "      <td>0</td>\n",
       "      <td>0</td>\n",
       "      <td>0</td>\n",
       "      <td>0</td>\n",
       "    </tr>\n",
       "    <tr>\n",
       "      <th>1</th>\n",
       "      <td>0</td>\n",
       "      <td>0</td>\n",
       "      <td>0</td>\n",
       "      <td>0</td>\n",
       "      <td>0</td>\n",
       "      <td>0</td>\n",
       "      <td>0</td>\n",
       "      <td>0</td>\n",
       "      <td>0</td>\n",
       "      <td>0</td>\n",
       "      <td>...</td>\n",
       "      <td>0</td>\n",
       "      <td>0</td>\n",
       "      <td>0</td>\n",
       "      <td>0</td>\n",
       "      <td>0</td>\n",
       "      <td>0</td>\n",
       "      <td>0</td>\n",
       "      <td>0</td>\n",
       "      <td>0</td>\n",
       "      <td>0</td>\n",
       "    </tr>\n",
       "    <tr>\n",
       "      <th>2</th>\n",
       "      <td>0</td>\n",
       "      <td>0</td>\n",
       "      <td>0</td>\n",
       "      <td>0</td>\n",
       "      <td>0</td>\n",
       "      <td>0</td>\n",
       "      <td>0</td>\n",
       "      <td>0</td>\n",
       "      <td>0</td>\n",
       "      <td>0</td>\n",
       "      <td>...</td>\n",
       "      <td>0</td>\n",
       "      <td>0</td>\n",
       "      <td>0</td>\n",
       "      <td>0</td>\n",
       "      <td>0</td>\n",
       "      <td>0</td>\n",
       "      <td>0</td>\n",
       "      <td>0</td>\n",
       "      <td>0</td>\n",
       "      <td>0</td>\n",
       "    </tr>\n",
       "    <tr>\n",
       "      <th>3</th>\n",
       "      <td>0</td>\n",
       "      <td>0</td>\n",
       "      <td>0</td>\n",
       "      <td>0</td>\n",
       "      <td>0</td>\n",
       "      <td>0</td>\n",
       "      <td>0</td>\n",
       "      <td>0</td>\n",
       "      <td>0</td>\n",
       "      <td>5</td>\n",
       "      <td>...</td>\n",
       "      <td>0</td>\n",
       "      <td>0</td>\n",
       "      <td>0</td>\n",
       "      <td>0</td>\n",
       "      <td>0</td>\n",
       "      <td>0</td>\n",
       "      <td>0</td>\n",
       "      <td>0</td>\n",
       "      <td>0</td>\n",
       "      <td>0</td>\n",
       "    </tr>\n",
       "    <tr>\n",
       "      <th>4</th>\n",
       "      <td>0</td>\n",
       "      <td>0</td>\n",
       "      <td>0</td>\n",
       "      <td>0</td>\n",
       "      <td>0</td>\n",
       "      <td>0</td>\n",
       "      <td>0</td>\n",
       "      <td>0</td>\n",
       "      <td>0</td>\n",
       "      <td>0</td>\n",
       "      <td>...</td>\n",
       "      <td>0</td>\n",
       "      <td>0</td>\n",
       "      <td>0</td>\n",
       "      <td>0</td>\n",
       "      <td>0</td>\n",
       "      <td>0</td>\n",
       "      <td>0</td>\n",
       "      <td>0</td>\n",
       "      <td>0</td>\n",
       "      <td>0</td>\n",
       "    </tr>\n",
       "  </tbody>\n",
       "</table>\n",
       "<p>5 rows × 1000 columns</p>\n",
       "</div>"
      ],
      "text/plain": [
       "   0    1    2    3    4    5    6    7    8    9   ...   990  991  992  993  \\\n",
       "0    0    0    0    0    0    0    0    0    0    0 ...     0    0    0    0   \n",
       "1    0    0    0    0    0    0    0    0    0    0 ...     0    0    0    0   \n",
       "2    0    0    0    0    0    0    0    0    0    0 ...     0    0    0    0   \n",
       "3    0    0    0    0    0    0    0    0    0    5 ...     0    0    0    0   \n",
       "4    0    0    0    0    0    0    0    0    0    0 ...     0    0    0    0   \n",
       "\n",
       "   994  995  996  997  998  999  \n",
       "0    0    0    0    0    0    0  \n",
       "1    0    0    0    0    0    0  \n",
       "2    0    0    0    0    0    0  \n",
       "3    0    0    0    0    0    0  \n",
       "4    0    0    0    0    0    0  \n",
       "\n",
       "[5 rows x 1000 columns]"
      ]
     },
     "execution_count": 15,
     "metadata": {},
     "output_type": "execute_result"
    }
   ],
   "source": [
    "X_valid = pd.read_csv('matrix_valid.csv', header=None)\n",
    "print(X_valid.shape)\n",
    "X_valid.head()"
   ]
  },
  {
   "cell_type": "code",
   "execution_count": 16,
   "metadata": {},
   "outputs": [
    {
     "data": {
      "text/plain": [
       "2255"
      ]
     },
     "execution_count": 16,
     "metadata": {},
     "output_type": "execute_result"
    }
   ],
   "source": [
    "X_valid.shape[0]"
   ]
  },
  {
   "cell_type": "markdown",
   "metadata": {},
   "source": [
    "## Build Customer and Movie Maps (test)"
   ]
  },
  {
   "cell_type": "code",
   "execution_count": 17,
   "metadata": {},
   "outputs": [
    {
     "data": {
      "text/plain": [
       "14678"
      ]
     },
     "execution_count": 17,
     "metadata": {},
     "output_type": "execute_result"
    }
   ],
   "source": [
    "customer_map = df_test.CustomerID.unique()\n",
    "customer_map.sort()\n",
    "customer_map = customer_map[:7020]\n",
    "num_users = len(customer_map)\n",
    "customer_map[-1]"
   ]
  },
  {
   "cell_type": "code",
   "execution_count": 18,
   "metadata": {},
   "outputs": [
    {
     "data": {
      "text/plain": [
       "1000"
      ]
     },
     "execution_count": 18,
     "metadata": {},
     "output_type": "execute_result"
    }
   ],
   "source": [
    "movie_map = df_test.MovieID.unique()\n",
    "movie_map.sort()\n",
    "movie_map = movie_map[:901]\n",
    "#movie_map\n",
    "num_movies = len(movie_map)\n",
    "movie_map[-1]"
   ]
  },
  {
   "cell_type": "markdown",
   "metadata": {},
   "source": [
    "## Preprocess Data to create User-Movie Matrix (test)\n",
    "### Uncomment to see how data is preprocessed."
   ]
  },
  {
   "cell_type": "code",
   "execution_count": 19,
   "metadata": {},
   "outputs": [],
   "source": [
    "# file = open('matrix_test.csv','w')\n",
    "\n",
    "# def temp(i):\n",
    "#     return np.where(movie_map == i)[0][0]\n",
    "\n",
    "\n",
    "# for id_user in customer_map:\n",
    "#     id_movie = df_test.iloc[:,1][(df_test.iloc[:,0]==id_user) & (df_test.iloc[:,1]<=1000)]\n",
    "#     id_movie = id_movie.apply(temp)\n",
    "#     id_rating=df_test.iloc[:,2][(df_test.iloc[:,0]==id_user) & (df_test.iloc[:,1]<=1000)]\n",
    "#     ratings=np.zeros(1000, dtype=np.uint32)\n",
    "#     ratings[id_movie-1]=id_rating\n",
    "#     if sum(ratings)==0:\n",
    "#         continue\n",
    "#     ratings=pd.DataFrame(ratings.reshape(-1, len(ratings)))\n",
    "#     file.write(ratings.to_csv(index=False, header=False))\n",
    "#     del id_movie\n",
    "#     del id_rating\n",
    "#     del ratings\n",
    "\n",
    "\n",
    "# file.close()"
   ]
  },
  {
   "cell_type": "code",
   "execution_count": 20,
   "metadata": {},
   "outputs": [
    {
     "name": "stdout",
     "output_type": "stream",
     "text": [
      "(2286, 1000)\n"
     ]
    },
    {
     "data": {
      "text/html": [
       "<div>\n",
       "<style scoped>\n",
       "    .dataframe tbody tr th:only-of-type {\n",
       "        vertical-align: middle;\n",
       "    }\n",
       "\n",
       "    .dataframe tbody tr th {\n",
       "        vertical-align: top;\n",
       "    }\n",
       "\n",
       "    .dataframe thead th {\n",
       "        text-align: right;\n",
       "    }\n",
       "</style>\n",
       "<table border=\"1\" class=\"dataframe\">\n",
       "  <thead>\n",
       "    <tr style=\"text-align: right;\">\n",
       "      <th></th>\n",
       "      <th>0</th>\n",
       "      <th>1</th>\n",
       "      <th>2</th>\n",
       "      <th>3</th>\n",
       "      <th>4</th>\n",
       "      <th>5</th>\n",
       "      <th>6</th>\n",
       "      <th>7</th>\n",
       "      <th>8</th>\n",
       "      <th>9</th>\n",
       "      <th>...</th>\n",
       "      <th>990</th>\n",
       "      <th>991</th>\n",
       "      <th>992</th>\n",
       "      <th>993</th>\n",
       "      <th>994</th>\n",
       "      <th>995</th>\n",
       "      <th>996</th>\n",
       "      <th>997</th>\n",
       "      <th>998</th>\n",
       "      <th>999</th>\n",
       "    </tr>\n",
       "  </thead>\n",
       "  <tbody>\n",
       "    <tr>\n",
       "      <th>0</th>\n",
       "      <td>0</td>\n",
       "      <td>0</td>\n",
       "      <td>0</td>\n",
       "      <td>0</td>\n",
       "      <td>0</td>\n",
       "      <td>0</td>\n",
       "      <td>0</td>\n",
       "      <td>0</td>\n",
       "      <td>0</td>\n",
       "      <td>0</td>\n",
       "      <td>...</td>\n",
       "      <td>0</td>\n",
       "      <td>0</td>\n",
       "      <td>0</td>\n",
       "      <td>0</td>\n",
       "      <td>0</td>\n",
       "      <td>0</td>\n",
       "      <td>0</td>\n",
       "      <td>0</td>\n",
       "      <td>0</td>\n",
       "      <td>0</td>\n",
       "    </tr>\n",
       "    <tr>\n",
       "      <th>1</th>\n",
       "      <td>0</td>\n",
       "      <td>0</td>\n",
       "      <td>0</td>\n",
       "      <td>0</td>\n",
       "      <td>0</td>\n",
       "      <td>0</td>\n",
       "      <td>0</td>\n",
       "      <td>0</td>\n",
       "      <td>0</td>\n",
       "      <td>0</td>\n",
       "      <td>...</td>\n",
       "      <td>0</td>\n",
       "      <td>0</td>\n",
       "      <td>0</td>\n",
       "      <td>0</td>\n",
       "      <td>0</td>\n",
       "      <td>0</td>\n",
       "      <td>0</td>\n",
       "      <td>0</td>\n",
       "      <td>0</td>\n",
       "      <td>0</td>\n",
       "    </tr>\n",
       "    <tr>\n",
       "      <th>2</th>\n",
       "      <td>0</td>\n",
       "      <td>0</td>\n",
       "      <td>0</td>\n",
       "      <td>0</td>\n",
       "      <td>0</td>\n",
       "      <td>0</td>\n",
       "      <td>0</td>\n",
       "      <td>0</td>\n",
       "      <td>0</td>\n",
       "      <td>0</td>\n",
       "      <td>...</td>\n",
       "      <td>0</td>\n",
       "      <td>0</td>\n",
       "      <td>0</td>\n",
       "      <td>0</td>\n",
       "      <td>0</td>\n",
       "      <td>0</td>\n",
       "      <td>0</td>\n",
       "      <td>0</td>\n",
       "      <td>0</td>\n",
       "      <td>0</td>\n",
       "    </tr>\n",
       "    <tr>\n",
       "      <th>3</th>\n",
       "      <td>0</td>\n",
       "      <td>0</td>\n",
       "      <td>0</td>\n",
       "      <td>0</td>\n",
       "      <td>0</td>\n",
       "      <td>0</td>\n",
       "      <td>0</td>\n",
       "      <td>0</td>\n",
       "      <td>0</td>\n",
       "      <td>0</td>\n",
       "      <td>...</td>\n",
       "      <td>0</td>\n",
       "      <td>0</td>\n",
       "      <td>0</td>\n",
       "      <td>0</td>\n",
       "      <td>0</td>\n",
       "      <td>0</td>\n",
       "      <td>0</td>\n",
       "      <td>0</td>\n",
       "      <td>0</td>\n",
       "      <td>0</td>\n",
       "    </tr>\n",
       "    <tr>\n",
       "      <th>4</th>\n",
       "      <td>0</td>\n",
       "      <td>0</td>\n",
       "      <td>0</td>\n",
       "      <td>0</td>\n",
       "      <td>0</td>\n",
       "      <td>0</td>\n",
       "      <td>0</td>\n",
       "      <td>0</td>\n",
       "      <td>0</td>\n",
       "      <td>0</td>\n",
       "      <td>...</td>\n",
       "      <td>0</td>\n",
       "      <td>0</td>\n",
       "      <td>0</td>\n",
       "      <td>0</td>\n",
       "      <td>0</td>\n",
       "      <td>0</td>\n",
       "      <td>0</td>\n",
       "      <td>0</td>\n",
       "      <td>0</td>\n",
       "      <td>0</td>\n",
       "    </tr>\n",
       "  </tbody>\n",
       "</table>\n",
       "<p>5 rows × 1000 columns</p>\n",
       "</div>"
      ],
      "text/plain": [
       "   0    1    2    3    4    5    6    7    8    9   ...   990  991  992  993  \\\n",
       "0    0    0    0    0    0    0    0    0    0    0 ...     0    0    0    0   \n",
       "1    0    0    0    0    0    0    0    0    0    0 ...     0    0    0    0   \n",
       "2    0    0    0    0    0    0    0    0    0    0 ...     0    0    0    0   \n",
       "3    0    0    0    0    0    0    0    0    0    0 ...     0    0    0    0   \n",
       "4    0    0    0    0    0    0    0    0    0    0 ...     0    0    0    0   \n",
       "\n",
       "   994  995  996  997  998  999  \n",
       "0    0    0    0    0    0    0  \n",
       "1    0    0    0    0    0    0  \n",
       "2    0    0    0    0    0    0  \n",
       "3    0    0    0    0    0    0  \n",
       "4    0    0    0    0    0    0  \n",
       "\n",
       "[5 rows x 1000 columns]"
      ]
     },
     "execution_count": 20,
     "metadata": {},
     "output_type": "execute_result"
    }
   ],
   "source": [
    "X_test = pd.read_csv('matrix_test.csv', header=None)\n",
    "print(X_test.shape)\n",
    "X_test.head()"
   ]
  },
  {
   "cell_type": "code",
   "execution_count": 21,
   "metadata": {},
   "outputs": [
    {
     "data": {
      "text/plain": [
       "2286"
      ]
     },
     "execution_count": 21,
     "metadata": {},
     "output_type": "execute_result"
    }
   ],
   "source": [
    "X_test.shape[0]"
   ]
  },
  {
   "cell_type": "markdown",
   "metadata": {},
   "source": [
    "## Create Custom Loss RMSE"
   ]
  },
  {
   "cell_type": "code",
   "execution_count": 22,
   "metadata": {},
   "outputs": [],
   "source": [
    "def rmse(y_true, y_pred):\n",
    "    mask_true = K.cast(K.not_equal(y_true, 0), K.floatx())\n",
    "    masked_squared_error = mask_true * K.square((y_true - y_pred))\n",
    "    masked_mse = K.sum(masked_squared_error, axis=-1) / K.sum(mask_true, axis=-1)\n",
    "    return K.sqrt(masked_mse)"
   ]
  },
  {
   "cell_type": "markdown",
   "metadata": {},
   "source": [
    "## Create the Model"
   ]
  },
  {
   "cell_type": "code",
   "execution_count": 23,
   "metadata": {},
   "outputs": [
    {
     "name": "stdout",
     "output_type": "stream",
     "text": [
      "__________________________________________________________________________________________________\n",
      "Layer (type)                    Output Shape         Param #     Connected to                     \n",
      "==================================================================================================\n",
      "input_1 (InputLayer)            (None, 1000)         0                                            \n",
      "__________________________________________________________________________________________________\n",
      "dense_1 (Dense)                 (None, 28)           28028       input_1[0][0]                    \n",
      "                                                                 dense_6[0][0]                    \n",
      "__________________________________________________________________________________________________\n",
      "dense_2 (Dense)                 (None, 56)           1624        dense_1[0][0]                    \n",
      "                                                                 dense_1[1][0]                    \n",
      "__________________________________________________________________________________________________\n",
      "dense_3 (Dense)                 (None, 56)           3192        dense_2[0][0]                    \n",
      "                                                                 dense_2[1][0]                    \n",
      "__________________________________________________________________________________________________\n",
      "dropout_1 (Dropout)             (None, 56)           0           dense_3[0][0]                    \n",
      "                                                                 dense_3[1][0]                    \n",
      "__________________________________________________________________________________________________\n",
      "dense_4 (Dense)                 (None, 56)           3192        dropout_1[0][0]                  \n",
      "                                                                 dropout_1[1][0]                  \n",
      "__________________________________________________________________________________________________\n",
      "dense_5 (Dense)                 (None, 28)           1596        dense_4[0][0]                    \n",
      "                                                                 dense_4[1][0]                    \n",
      "__________________________________________________________________________________________________\n",
      "dense_6 (Dense)                 (None, 1000)         29000       dense_5[0][0]                    \n",
      "                                                                 dense_5[1][0]                    \n",
      "==================================================================================================\n",
      "Total params: 66,632\n",
      "Trainable params: 66,632\n",
      "Non-trainable params: 0\n",
      "__________________________________________________________________________________________________\n",
      "None\n"
     ]
    }
   ],
   "source": [
    "# Functional Model\n",
    "\n",
    "encoder1 = Dense(28, activation='selu')\n",
    "encoder2 = Dense(56, activation='selu')\n",
    "code = Dense(56, activation='selu')\n",
    "dropout = Dropout(0.65)\n",
    "decoder1 = Dense(56, activation='selu')\n",
    "decoder2 = Dense(28, activation='selu')\n",
    "out = Dense(X.shape[1], activation='selu')\n",
    "\n",
    "\n",
    "input = Input(shape=(1000,))\n",
    "\n",
    "encoded1 = encoder1(input)\n",
    "encoded2 = encoder2(encoded1)\n",
    "coded = code(encoded2)\n",
    "dropped = dropout(coded)\n",
    "decoded1 = decoder1(dropped)\n",
    "decoded2 = decoder2(decoded1)\n",
    "temp_output = out(decoded2)\n",
    "\n",
    "re_encoded1 = encoder1(temp_output)\n",
    "re_encoded2 = encoder2(re_encoded1)\n",
    "re_coded = code(re_encoded2)\n",
    "re_dropped = dropout(re_coded)\n",
    "re_decoded1 = decoder1(re_dropped)\n",
    "re_decoded2 = decoder2(re_decoded1)\n",
    "output = out(re_decoded2)\n",
    "\n",
    "model = Model(inputs=input, outputs=output)\n",
    "print(model.summary())\n",
    "# plot_model(model, to_file='model.png')"
   ]
  },
  {
   "cell_type": "markdown",
   "metadata": {},
   "source": [
    "## Train the Model on the dataset"
   ]
  },
  {
   "cell_type": "code",
   "execution_count": 24,
   "metadata": {},
   "outputs": [
    {
     "name": "stdout",
     "output_type": "stream",
     "text": [
      "Train on 13118 samples, validate on 2255 samples\n",
      "Epoch 1/100\n",
      "13118/13118 [==============================] - 3s 229us/step - loss: 3.3572 - val_loss: 3.4639\n",
      "Epoch 2/100\n",
      "13118/13118 [==============================] - 2s 184us/step - loss: 2.4903 - val_loss: 3.1486\n",
      "Epoch 3/100\n",
      "13118/13118 [==============================] - 2s 168us/step - loss: 1.7264 - val_loss: 2.8858\n",
      "Epoch 4/100\n",
      "13118/13118 [==============================] - 2s 187us/step - loss: 1.4513 - val_loss: 2.7040\n",
      "Epoch 5/100\n",
      "13118/13118 [==============================] - 3s 195us/step - loss: 1.3411 - val_loss: 2.5676\n",
      "Epoch 6/100\n",
      "13118/13118 [==============================] - 2s 156us/step - loss: 1.2617 - val_loss: 2.4616\n",
      "Epoch 7/100\n",
      "13118/13118 [==============================] - 2s 187us/step - loss: 1.2001 - val_loss: 2.3407\n",
      "Epoch 8/100\n",
      "13118/13118 [==============================] - 2s 166us/step - loss: 1.1608 - val_loss: 2.2722\n",
      "Epoch 9/100\n",
      "13118/13118 [==============================] - 2s 175us/step - loss: 1.1279 - val_loss: 2.2156\n",
      "Epoch 10/100\n",
      "13118/13118 [==============================] - 2s 177us/step - loss: 1.1052 - val_loss: 2.1533\n",
      "Epoch 11/100\n",
      "13118/13118 [==============================] - 2s 183us/step - loss: 1.0826 - val_loss: 2.1082\n",
      "Epoch 12/100\n",
      "13118/13118 [==============================] - 3s 196us/step - loss: 1.0812 - val_loss: 2.0692\n",
      "Epoch 13/100\n",
      "13118/13118 [==============================] - 2s 166us/step - loss: 1.0571 - val_loss: 2.0321\n",
      "Epoch 14/100\n",
      "13118/13118 [==============================] - 2s 166us/step - loss: 1.0505 - val_loss: 1.9944\n",
      "Epoch 15/100\n",
      "13118/13118 [==============================] - 2s 164us/step - loss: 1.0321 - val_loss: 1.9687\n",
      "Epoch 16/100\n",
      "13118/13118 [==============================] - 2s 166us/step - loss: 1.0305 - val_loss: 1.9420\n",
      "Epoch 17/100\n",
      "13118/13118 [==============================] - 2s 166us/step - loss: 1.0126 - val_loss: 1.9107\n",
      "Epoch 18/100\n",
      "13118/13118 [==============================] - 2s 174us/step - loss: 1.0035 - val_loss: 1.8960\n",
      "Epoch 19/100\n",
      "13118/13118 [==============================] - 2s 162us/step - loss: 0.9978 - val_loss: 1.8692\n",
      "Epoch 20/100\n",
      "13118/13118 [==============================] - 2s 164us/step - loss: 0.9983 - val_loss: 1.8466\n",
      "Epoch 21/100\n",
      "13118/13118 [==============================] - 2s 166us/step - loss: 0.9902 - val_loss: 1.8393\n",
      "Epoch 22/100\n",
      "13118/13118 [==============================] - 2s 165us/step - loss: 0.9829 - val_loss: 1.8387\n",
      "Epoch 23/100\n",
      "13118/13118 [==============================] - 2s 164us/step - loss: 0.9788 - val_loss: 1.8140\n",
      "Epoch 24/100\n",
      "13118/13118 [==============================] - 2s 167us/step - loss: 0.9705 - val_loss: 1.8025\n",
      "Epoch 25/100\n",
      "13118/13118 [==============================] - 3s 206us/step - loss: 0.9682 - val_loss: 1.7880\n",
      "Epoch 26/100\n",
      "13118/13118 [==============================] - 2s 169us/step - loss: 0.9617 - val_loss: 1.7677\n",
      "Epoch 27/100\n",
      "13118/13118 [==============================] - 2s 157us/step - loss: 0.9609 - val_loss: 1.7611\n",
      "Epoch 28/100\n",
      "13118/13118 [==============================] - 2s 182us/step - loss: 0.9600 - val_loss: 1.7512\n",
      "Epoch 29/100\n",
      "13118/13118 [==============================] - 2s 191us/step - loss: 0.9505 - val_loss: 1.7491\n",
      "Epoch 30/100\n",
      "13118/13118 [==============================] - 2s 183us/step - loss: 0.9553 - val_loss: 1.7422\n",
      "Epoch 31/100\n",
      "13118/13118 [==============================] - 2s 145us/step - loss: 0.9515 - val_loss: 1.7315\n",
      "Epoch 32/100\n",
      "13118/13118 [==============================] - 2s 189us/step - loss: 0.9416 - val_loss: 1.7365\n",
      "Epoch 33/100\n",
      "13118/13118 [==============================] - 3s 211us/step - loss: 0.9434 - val_loss: 1.7229\n",
      "Epoch 34/100\n",
      "13118/13118 [==============================] - 3s 203us/step - loss: 0.9453 - val_loss: 1.7202\n",
      "Epoch 35/100\n",
      "13118/13118 [==============================] - 2s 169us/step - loss: 0.9376 - val_loss: 1.7101\n",
      "Epoch 36/100\n",
      "13118/13118 [==============================] - 2s 156us/step - loss: 0.9322 - val_loss: 1.7155\n",
      "Epoch 37/100\n",
      "13118/13118 [==============================] - 2s 147us/step - loss: 0.9297 - val_loss: 1.7048\n",
      "Epoch 38/100\n",
      "13118/13118 [==============================] - 2s 176us/step - loss: 0.9308 - val_loss: 1.7044\n",
      "Epoch 39/100\n",
      "13118/13118 [==============================] - 3s 213us/step - loss: 0.9247 - val_loss: 1.6925\n",
      "Epoch 40/100\n",
      "13118/13118 [==============================] - 2s 166us/step - loss: 0.9255 - val_loss: 1.6980\n",
      "Epoch 41/100\n",
      "13118/13118 [==============================] - 2s 168us/step - loss: 0.9171 - val_loss: 1.6906\n",
      "Epoch 42/100\n",
      "13118/13118 [==============================] - 2s 171us/step - loss: 0.9207 - val_loss: 1.7003\n",
      "Epoch 43/100\n",
      "13118/13118 [==============================] - 2s 165us/step - loss: 0.9156 - val_loss: 1.6773\n",
      "Epoch 44/100\n",
      "13118/13118 [==============================] - 3s 209us/step - loss: 0.9192 - val_loss: 1.6789\n",
      "Epoch 45/100\n",
      "13118/13118 [==============================] - 3s 211us/step - loss: 0.9152 - val_loss: 1.6596\n",
      "Epoch 46/100\n",
      "13118/13118 [==============================] - 2s 140us/step - loss: 0.9092 - val_loss: 1.6689\n",
      "Epoch 47/100\n",
      "13118/13118 [==============================] - 2s 141us/step - loss: 0.9133 - val_loss: 1.6619\n",
      "Epoch 48/100\n",
      "13118/13118 [==============================] - 2s 140us/step - loss: 0.9107 - val_loss: 1.6692\n",
      "Epoch 49/100\n",
      "13118/13118 [==============================] - 2s 143us/step - loss: 0.9056 - val_loss: 1.6569\n",
      "Epoch 50/100\n",
      "13118/13118 [==============================] - 2s 156us/step - loss: 0.9067 - val_loss: 1.6599\n",
      "Epoch 51/100\n",
      "13118/13118 [==============================] - 2s 185us/step - loss: 0.9057 - val_loss: 1.6467\n",
      "Epoch 52/100\n",
      "13118/13118 [==============================] - 3s 194us/step - loss: 0.9030 - val_loss: 1.6464\n",
      "Epoch 53/100\n",
      "13118/13118 [==============================] - 2s 177us/step - loss: 0.8991 - val_loss: 1.6464\n",
      "Epoch 54/100\n",
      "13118/13118 [==============================] - 2s 186us/step - loss: 0.9003 - val_loss: 1.6483\n",
      "Epoch 55/100\n",
      "13118/13118 [==============================] - 2s 187us/step - loss: 0.8997 - val_loss: 1.6349\n",
      "Epoch 56/100\n",
      "13118/13118 [==============================] - 2s 180us/step - loss: 0.8981 - val_loss: 1.6259\n",
      "Epoch 57/100\n",
      "13118/13118 [==============================] - 3s 210us/step - loss: 0.8947 - val_loss: 1.6283\n",
      "Epoch 58/100\n",
      "13118/13118 [==============================] - 2s 163us/step - loss: 0.8966 - val_loss: 1.6284\n",
      "Epoch 59/100\n",
      "13118/13118 [==============================] - 2s 165us/step - loss: 0.8923 - val_loss: 1.6269\n",
      "Epoch 60/100\n",
      "13118/13118 [==============================] - 2s 175us/step - loss: 0.8932 - val_loss: 1.6353\n",
      "Epoch 61/100\n",
      "13118/13118 [==============================] - 3s 206us/step - loss: 0.8901 - val_loss: 1.6319\n",
      "Epoch 62/100\n",
      "13118/13118 [==============================] - 3s 193us/step - loss: 0.8898 - val_loss: 1.6222\n",
      "Epoch 63/100\n",
      "13118/13118 [==============================] - 2s 178us/step - loss: 0.8923 - val_loss: 1.6247\n",
      "Epoch 64/100\n",
      "13118/13118 [==============================] - 3s 201us/step - loss: 0.8865 - val_loss: 1.6197\n",
      "Epoch 65/100\n",
      "13118/13118 [==============================] - 2s 168us/step - loss: 0.8872 - val_loss: 1.6134\n",
      "Epoch 66/100\n",
      "13118/13118 [==============================] - 2s 175us/step - loss: 0.8838 - val_loss: 1.6196\n",
      "Epoch 67/100\n",
      "13118/13118 [==============================] - 2s 187us/step - loss: 0.8867 - val_loss: 1.6239\n",
      "Epoch 68/100\n",
      "13118/13118 [==============================] - 2s 161us/step - loss: 0.8833 - val_loss: 1.6195\n",
      "Epoch 69/100\n",
      "13118/13118 [==============================] - 2s 163us/step - loss: 0.8832 - val_loss: 1.6277\n",
      "Epoch 70/100\n",
      "13118/13118 [==============================] - 2s 166us/step - loss: 0.8829 - val_loss: 1.6153\n",
      "Epoch 71/100\n",
      "13118/13118 [==============================] - 2s 181us/step - loss: 0.8790 - val_loss: 1.6202\n",
      "Epoch 72/100\n",
      "13118/13118 [==============================] - 2s 189us/step - loss: 0.8814 - val_loss: 1.6216\n",
      "Epoch 73/100\n",
      "13118/13118 [==============================] - 2s 169us/step - loss: 0.8795 - val_loss: 1.6147\n",
      "Epoch 74/100\n",
      "13118/13118 [==============================] - 2s 177us/step - loss: 0.8776 - val_loss: 1.5980\n",
      "Epoch 75/100\n",
      "13118/13118 [==============================] - 2s 179us/step - loss: 0.8788 - val_loss: 1.6156\n",
      "Epoch 76/100\n"
     ]
    },
    {
     "name": "stdout",
     "output_type": "stream",
     "text": [
      "13118/13118 [==============================] - 2s 163us/step - loss: 0.8772 - val_loss: 1.6056\n",
      "Epoch 77/100\n",
      "13118/13118 [==============================] - 2s 165us/step - loss: 0.8777 - val_loss: 1.5997\n",
      "Epoch 78/100\n",
      "13118/13118 [==============================] - 2s 164us/step - loss: 0.8738 - val_loss: 1.5982\n",
      "Epoch 79/100\n",
      "13118/13118 [==============================] - 2s 161us/step - loss: 0.8754 - val_loss: 1.5955\n",
      "Epoch 80/100\n",
      "13118/13118 [==============================] - 2s 159us/step - loss: 0.8750 - val_loss: 1.5987\n",
      "Epoch 81/100\n",
      "13118/13118 [==============================] - 2s 154us/step - loss: 0.8748 - val_loss: 1.6037\n",
      "Epoch 82/100\n",
      "13118/13118 [==============================] - 2s 159us/step - loss: 0.8721 - val_loss: 1.6020\n",
      "Epoch 83/100\n",
      "13118/13118 [==============================] - 2s 160us/step - loss: 0.8710 - val_loss: 1.5998\n",
      "Epoch 84/100\n",
      "13118/13118 [==============================] - 2s 161us/step - loss: 0.8699 - val_loss: 1.5869\n",
      "Epoch 85/100\n",
      "13118/13118 [==============================] - 2s 172us/step - loss: 0.8706 - val_loss: 1.5972\n",
      "Epoch 86/100\n",
      "13118/13118 [==============================] - 3s 195us/step - loss: 0.8705 - val_loss: 1.5820\n",
      "Epoch 87/100\n",
      "13118/13118 [==============================] - 2s 184us/step - loss: 0.8702 - val_loss: 1.5897\n",
      "Epoch 88/100\n",
      "13118/13118 [==============================] - 3s 256us/step - loss: 0.8675 - val_loss: 1.5916\n",
      "Epoch 89/100\n",
      "13118/13118 [==============================] - 3s 206us/step - loss: 0.8680 - val_loss: 1.5789\n",
      "Epoch 90/100\n",
      "13118/13118 [==============================] - 2s 182us/step - loss: 0.8711 - val_loss: 1.5754\n",
      "Epoch 91/100\n",
      "13118/13118 [==============================] - 2s 185us/step - loss: 0.8705 - val_loss: 1.5835\n",
      "Epoch 92/100\n",
      "13118/13118 [==============================] - 2s 173us/step - loss: 0.8676 - val_loss: 1.5674\n",
      "Epoch 93/100\n",
      "13118/13118 [==============================] - 3s 191us/step - loss: 0.8674 - val_loss: 1.5844\n",
      "Epoch 94/100\n",
      "13118/13118 [==============================] - 2s 185us/step - loss: 0.8674 - val_loss: 1.5712\n",
      "Epoch 95/100\n",
      "13118/13118 [==============================] - 2s 181us/step - loss: 0.8667 - val_loss: 1.5607\n",
      "Epoch 96/100\n",
      "13118/13118 [==============================] - 2s 171us/step - loss: 0.8662 - val_loss: 1.5720\n",
      "Epoch 97/100\n",
      "13118/13118 [==============================] - 2s 178us/step - loss: 0.8671 - val_loss: 1.5927\n",
      "Epoch 98/100\n",
      "13118/13118 [==============================] - 2s 170us/step - loss: 0.8652 - val_loss: 1.5796\n",
      "Epoch 99/100\n",
      "13118/13118 [==============================] - 2s 172us/step - loss: 0.8637 - val_loss: 1.5733\n",
      "Epoch 100/100\n",
      "13118/13118 [==============================] - 2s 174us/step - loss: 0.8656 - val_loss: 1.5696\n"
     ]
    },
    {
     "data": {
      "text/plain": [
       "<keras.callbacks.History at 0x1b83ccaab38>"
      ]
     },
     "execution_count": 24,
     "metadata": {},
     "output_type": "execute_result"
    }
   ],
   "source": [
    "model.compile(loss=rmse, optimizer='sgd')\n",
    "\n",
    "model.fit(X, X, batch_size=128, epochs=100, validation_data=(X_valid, X_valid), callbacks=[tensorboard])"
   ]
  },
  {
   "cell_type": "markdown",
   "metadata": {},
   "source": [
    "## Test the model on the test set"
   ]
  },
  {
   "cell_type": "code",
   "execution_count": 25,
   "metadata": {},
   "outputs": [
    {
     "name": "stdout",
     "output_type": "stream",
     "text": [
      "2286/2286 [==============================] - 0s 87us/step\n"
     ]
    },
    {
     "data": {
      "text/plain": [
       "1.7395454613868333"
      ]
     },
     "execution_count": 25,
     "metadata": {},
     "output_type": "execute_result"
    }
   ],
   "source": [
    "test_loss = model.evaluate(X_test, X_test)\n",
    "test_loss"
   ]
  }
 ],
 "metadata": {
  "kernelspec": {
   "display_name": "Python 3",
   "language": "python",
   "name": "python3"
  },
  "language_info": {
   "codemirror_mode": {
    "name": "ipython",
    "version": 3
   },
   "file_extension": ".py",
   "mimetype": "text/x-python",
   "name": "python",
   "nbconvert_exporter": "python",
   "pygments_lexer": "ipython3",
   "version": "3.6.7"
  }
 },
 "nbformat": 4,
 "nbformat_minor": 2
}
