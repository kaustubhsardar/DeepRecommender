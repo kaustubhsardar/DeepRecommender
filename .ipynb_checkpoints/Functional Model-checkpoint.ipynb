{
 "cells": [
  {
   "cell_type": "markdown",
   "metadata": {},
   "source": [
    "## Load required libraries"
   ]
  },
  {
   "cell_type": "code",
   "execution_count": 1,
   "metadata": {},
   "outputs": [
    {
     "name": "stderr",
     "output_type": "stream",
     "text": [
      "Using TensorFlow backend.\n"
     ]
    }
   ],
   "source": [
    "import keras # imports keras and tensorflow as backend\n",
    "\n",
    "import numpy as np\n",
    "import pandas as pd\n",
    "\n",
    "import os\n",
    "import time\n",
    "\n",
    "from keras.models import Model, Sequential\n",
    "from keras.layers import Input, Dense, Dropout, Activation\n",
    "from keras.callbacks import TensorBoard\n",
    "import keras.backend as K\n",
    "from keras import optimizers\n",
    "\n",
    "# from keras.utils import plot_model"
   ]
  },
  {
   "cell_type": "markdown",
   "metadata": {},
   "source": [
    "## Save tensorboard logs with different runs.\n",
    "### Run everytime when running model."
   ]
  },
  {
   "cell_type": "code",
   "execution_count": 2,
   "metadata": {},
   "outputs": [],
   "source": [
    "NAME = \"DeepRecommender-Functional-{}\".format(int(time.time()))\n",
    "\n",
    "tensorboard = TensorBoard(log_dir='./logs/{}'.format(NAME))"
   ]
  },
  {
   "cell_type": "markdown",
   "metadata": {},
   "source": [
    "## Set Data Paths"
   ]
  },
  {
   "cell_type": "code",
   "execution_count": 3,
   "metadata": {},
   "outputs": [],
   "source": [
    "DATA_DIR = './nf_data'\n",
    "\n",
    "nf_3m_train = os.path.join(DATA_DIR, 'N3M_TRAIN', 'n3m.train.txt')\n",
    "nf_3m_valid = os.path.join(DATA_DIR, 'N3M_VALID', 'n3m.valid.txt')\n",
    "nf_3m_test = os.path.join(DATA_DIR, 'N3M_TEST', 'n3m.test.txt')"
   ]
  },
  {
   "cell_type": "markdown",
   "metadata": {},
   "source": [
    "## Load Data"
   ]
  },
  {
   "cell_type": "code",
   "execution_count": 4,
   "metadata": {},
   "outputs": [
    {
     "name": "stdout",
     "output_type": "stream",
     "text": [
      "(13675402, 3)\n"
     ]
    },
    {
     "data": {
      "text/html": [
       "<div>\n",
       "<style scoped>\n",
       "    .dataframe tbody tr th:only-of-type {\n",
       "        vertical-align: middle;\n",
       "    }\n",
       "\n",
       "    .dataframe tbody tr th {\n",
       "        vertical-align: top;\n",
       "    }\n",
       "\n",
       "    .dataframe thead th {\n",
       "        text-align: right;\n",
       "    }\n",
       "</style>\n",
       "<table border=\"1\" class=\"dataframe\">\n",
       "  <thead>\n",
       "    <tr style=\"text-align: right;\">\n",
       "      <th></th>\n",
       "      <th>CustomerID</th>\n",
       "      <th>MovieID</th>\n",
       "      <th>Rating</th>\n",
       "    </tr>\n",
       "  </thead>\n",
       "  <tbody>\n",
       "    <tr>\n",
       "      <th>0</th>\n",
       "      <td>0</td>\n",
       "      <td>4884</td>\n",
       "      <td>4.0</td>\n",
       "    </tr>\n",
       "    <tr>\n",
       "      <th>1</th>\n",
       "      <td>0</td>\n",
       "      <td>5332</td>\n",
       "      <td>4.0</td>\n",
       "    </tr>\n",
       "    <tr>\n",
       "      <th>2</th>\n",
       "      <td>0</td>\n",
       "      <td>5633</td>\n",
       "      <td>4.0</td>\n",
       "    </tr>\n",
       "    <tr>\n",
       "      <th>3</th>\n",
       "      <td>0</td>\n",
       "      <td>6642</td>\n",
       "      <td>4.0</td>\n",
       "    </tr>\n",
       "    <tr>\n",
       "      <th>4</th>\n",
       "      <td>0</td>\n",
       "      <td>6922</td>\n",
       "      <td>4.0</td>\n",
       "    </tr>\n",
       "  </tbody>\n",
       "</table>\n",
       "</div>"
      ],
      "text/plain": [
       "   CustomerID  MovieID  Rating\n",
       "0           0     4884     4.0\n",
       "1           0     5332     4.0\n",
       "2           0     5633     4.0\n",
       "3           0     6642     4.0\n",
       "4           0     6922     4.0"
      ]
     },
     "execution_count": 4,
     "metadata": {},
     "output_type": "execute_result"
    }
   ],
   "source": [
    "df_train = pd.read_csv(nf_3m_train, names=['CustomerID','MovieID','Rating'], sep='\\t')\n",
    "print(df_train.shape)\n",
    "df_train.head()"
   ]
  },
  {
   "cell_type": "code",
   "execution_count": 5,
   "metadata": {},
   "outputs": [
    {
     "name": "stdout",
     "output_type": "stream",
     "text": [
      "(1042131, 3)\n"
     ]
    },
    {
     "data": {
      "text/html": [
       "<div>\n",
       "<style scoped>\n",
       "    .dataframe tbody tr th:only-of-type {\n",
       "        vertical-align: middle;\n",
       "    }\n",
       "\n",
       "    .dataframe tbody tr th {\n",
       "        vertical-align: top;\n",
       "    }\n",
       "\n",
       "    .dataframe thead th {\n",
       "        text-align: right;\n",
       "    }\n",
       "</style>\n",
       "<table border=\"1\" class=\"dataframe\">\n",
       "  <thead>\n",
       "    <tr style=\"text-align: right;\">\n",
       "      <th></th>\n",
       "      <th>CustomerID</th>\n",
       "      <th>MovieID</th>\n",
       "      <th>Rating</th>\n",
       "    </tr>\n",
       "  </thead>\n",
       "  <tbody>\n",
       "    <tr>\n",
       "      <th>0</th>\n",
       "      <td>0</td>\n",
       "      <td>1012</td>\n",
       "      <td>4.0</td>\n",
       "    </tr>\n",
       "    <tr>\n",
       "      <th>1</th>\n",
       "      <td>0</td>\n",
       "      <td>2977</td>\n",
       "      <td>4.0</td>\n",
       "    </tr>\n",
       "    <tr>\n",
       "      <th>2</th>\n",
       "      <td>0</td>\n",
       "      <td>4101</td>\n",
       "      <td>4.0</td>\n",
       "    </tr>\n",
       "    <tr>\n",
       "      <th>3</th>\n",
       "      <td>0</td>\n",
       "      <td>15858</td>\n",
       "      <td>4.0</td>\n",
       "    </tr>\n",
       "    <tr>\n",
       "      <th>4</th>\n",
       "      <td>0</td>\n",
       "      <td>16629</td>\n",
       "      <td>4.0</td>\n",
       "    </tr>\n",
       "  </tbody>\n",
       "</table>\n",
       "</div>"
      ],
      "text/plain": [
       "   CustomerID  MovieID  Rating\n",
       "0           0     1012     4.0\n",
       "1           0     2977     4.0\n",
       "2           0     4101     4.0\n",
       "3           0    15858     4.0\n",
       "4           0    16629     4.0"
      ]
     },
     "execution_count": 5,
     "metadata": {},
     "output_type": "execute_result"
    }
   ],
   "source": [
    "df_valid = pd.read_csv(nf_3m_valid, names=['CustomerID','MovieID','Rating'], sep='\\t')\n",
    "print(df_valid.shape)\n",
    "df_valid.head()"
   ]
  },
  {
   "cell_type": "code",
   "execution_count": 6,
   "metadata": {},
   "outputs": [
    {
     "name": "stdout",
     "output_type": "stream",
     "text": [
      "(1040428, 3)\n"
     ]
    },
    {
     "data": {
      "text/html": [
       "<div>\n",
       "<style scoped>\n",
       "    .dataframe tbody tr th:only-of-type {\n",
       "        vertical-align: middle;\n",
       "    }\n",
       "\n",
       "    .dataframe tbody tr th {\n",
       "        vertical-align: top;\n",
       "    }\n",
       "\n",
       "    .dataframe thead th {\n",
       "        text-align: right;\n",
       "    }\n",
       "</style>\n",
       "<table border=\"1\" class=\"dataframe\">\n",
       "  <thead>\n",
       "    <tr style=\"text-align: right;\">\n",
       "      <th></th>\n",
       "      <th>CustomerID</th>\n",
       "      <th>MovieID</th>\n",
       "      <th>Rating</th>\n",
       "    </tr>\n",
       "  </thead>\n",
       "  <tbody>\n",
       "    <tr>\n",
       "      <th>0</th>\n",
       "      <td>0</td>\n",
       "      <td>9529</td>\n",
       "      <td>5.0</td>\n",
       "    </tr>\n",
       "    <tr>\n",
       "      <th>1</th>\n",
       "      <td>0</td>\n",
       "      <td>3363</td>\n",
       "      <td>4.0</td>\n",
       "    </tr>\n",
       "    <tr>\n",
       "      <th>2</th>\n",
       "      <td>0</td>\n",
       "      <td>5837</td>\n",
       "      <td>4.0</td>\n",
       "    </tr>\n",
       "    <tr>\n",
       "      <th>3</th>\n",
       "      <td>0</td>\n",
       "      <td>6017</td>\n",
       "      <td>4.0</td>\n",
       "    </tr>\n",
       "    <tr>\n",
       "      <th>4</th>\n",
       "      <td>0</td>\n",
       "      <td>10476</td>\n",
       "      <td>4.0</td>\n",
       "    </tr>\n",
       "  </tbody>\n",
       "</table>\n",
       "</div>"
      ],
      "text/plain": [
       "   CustomerID  MovieID  Rating\n",
       "0           0     9529     5.0\n",
       "1           0     3363     4.0\n",
       "2           0     5837     4.0\n",
       "3           0     6017     4.0\n",
       "4           0    10476     4.0"
      ]
     },
     "execution_count": 6,
     "metadata": {},
     "output_type": "execute_result"
    }
   ],
   "source": [
    "df_test = pd.read_csv(nf_3m_test, names=['CustomerID','MovieID','Rating'], sep='\\t')\n",
    "print(df_test.shape)\n",
    "df_test.head()"
   ]
  },
  {
   "cell_type": "markdown",
   "metadata": {},
   "source": [
    "## Build Customer and Movie Maps (train)"
   ]
  },
  {
   "cell_type": "code",
   "execution_count": 7,
   "metadata": {},
   "outputs": [
    {
     "data": {
      "text/plain": [
       "22203"
      ]
     },
     "execution_count": 7,
     "metadata": {},
     "output_type": "execute_result"
    }
   ],
   "source": [
    "customer_map = df_train.CustomerID.unique()\n",
    "customer_map.sort()\n",
    "customer_map = customer_map[0:17550]\n",
    "#user_map\n",
    "num_users = len(customer_map)\n",
    "customer_map[-1]"
   ]
  },
  {
   "cell_type": "code",
   "execution_count": 8,
   "metadata": {},
   "outputs": [
    {
     "data": {
      "text/plain": [
       "1000"
      ]
     },
     "execution_count": 8,
     "metadata": {},
     "output_type": "execute_result"
    }
   ],
   "source": [
    "movie_map = df_train.MovieID.unique()\n",
    "movie_map.sort()\n",
    "movie_map = movie_map[0:1000]\n",
    "#movie_map\n",
    "num_movies = len(movie_map)\n",
    "movie_map[-1]"
   ]
  },
  {
   "cell_type": "markdown",
   "metadata": {},
   "source": [
    "## Preprocess Data to create User-Movie Matrix (train)\n",
    "### Uncomment to see how data is preprocessed."
   ]
  },
  {
   "cell_type": "code",
   "execution_count": 9,
   "metadata": {},
   "outputs": [],
   "source": [
    "# file = open('matrix_train.csv','w')\n",
    "\n",
    "# def temp(i):\n",
    "#     return np.where(movie_map == i)[0][0]\n",
    "\n",
    "\n",
    "# for id_user in customer_map:\n",
    "#     id_movie = df_train.iloc[:,1][(df_train.iloc[:,0]==id_user) & (df_train.iloc[:,1]<=1000)]\n",
    "#     id_movie = id_movie.apply(temp)\n",
    "#     id_rating=df_train.iloc[:,2][(df_train.iloc[:,0]==id_user) & (df_train.iloc[:,1]<=1000)]\n",
    "#     ratings=np.zeros(num_movies, dtype=np.uint32)\n",
    "#     ratings[id_movie-1]=id_rating\n",
    "#     if sum(ratings)==0:\n",
    "#         continue\n",
    "#     ratings=pd.DataFrame(ratings.reshape(-1, len(ratings)))\n",
    "#     file.write(ratings.to_csv(index=False, header=False))\n",
    "#     del id_movie\n",
    "#     del id_rating\n",
    "#     del ratings\n",
    "\n",
    "\n",
    "# file.close()\n"
   ]
  },
  {
   "cell_type": "code",
   "execution_count": 10,
   "metadata": {},
   "outputs": [
    {
     "name": "stdout",
     "output_type": "stream",
     "text": [
      "(13118, 1000)\n"
     ]
    },
    {
     "data": {
      "text/html": [
       "<div>\n",
       "<style scoped>\n",
       "    .dataframe tbody tr th:only-of-type {\n",
       "        vertical-align: middle;\n",
       "    }\n",
       "\n",
       "    .dataframe tbody tr th {\n",
       "        vertical-align: top;\n",
       "    }\n",
       "\n",
       "    .dataframe thead th {\n",
       "        text-align: right;\n",
       "    }\n",
       "</style>\n",
       "<table border=\"1\" class=\"dataframe\">\n",
       "  <thead>\n",
       "    <tr style=\"text-align: right;\">\n",
       "      <th></th>\n",
       "      <th>0</th>\n",
       "      <th>1</th>\n",
       "      <th>2</th>\n",
       "      <th>3</th>\n",
       "      <th>4</th>\n",
       "      <th>5</th>\n",
       "      <th>6</th>\n",
       "      <th>7</th>\n",
       "      <th>8</th>\n",
       "      <th>9</th>\n",
       "      <th>...</th>\n",
       "      <th>990</th>\n",
       "      <th>991</th>\n",
       "      <th>992</th>\n",
       "      <th>993</th>\n",
       "      <th>994</th>\n",
       "      <th>995</th>\n",
       "      <th>996</th>\n",
       "      <th>997</th>\n",
       "      <th>998</th>\n",
       "      <th>999</th>\n",
       "    </tr>\n",
       "  </thead>\n",
       "  <tbody>\n",
       "    <tr>\n",
       "      <th>0</th>\n",
       "      <td>0</td>\n",
       "      <td>0</td>\n",
       "      <td>0</td>\n",
       "      <td>0</td>\n",
       "      <td>0</td>\n",
       "      <td>0</td>\n",
       "      <td>0</td>\n",
       "      <td>0</td>\n",
       "      <td>0</td>\n",
       "      <td>0</td>\n",
       "      <td>...</td>\n",
       "      <td>0</td>\n",
       "      <td>0</td>\n",
       "      <td>0</td>\n",
       "      <td>0</td>\n",
       "      <td>0</td>\n",
       "      <td>0</td>\n",
       "      <td>0</td>\n",
       "      <td>0</td>\n",
       "      <td>0</td>\n",
       "      <td>0</td>\n",
       "    </tr>\n",
       "    <tr>\n",
       "      <th>1</th>\n",
       "      <td>0</td>\n",
       "      <td>0</td>\n",
       "      <td>0</td>\n",
       "      <td>0</td>\n",
       "      <td>0</td>\n",
       "      <td>0</td>\n",
       "      <td>0</td>\n",
       "      <td>0</td>\n",
       "      <td>0</td>\n",
       "      <td>0</td>\n",
       "      <td>...</td>\n",
       "      <td>0</td>\n",
       "      <td>0</td>\n",
       "      <td>0</td>\n",
       "      <td>0</td>\n",
       "      <td>0</td>\n",
       "      <td>0</td>\n",
       "      <td>0</td>\n",
       "      <td>0</td>\n",
       "      <td>0</td>\n",
       "      <td>0</td>\n",
       "    </tr>\n",
       "    <tr>\n",
       "      <th>2</th>\n",
       "      <td>0</td>\n",
       "      <td>0</td>\n",
       "      <td>0</td>\n",
       "      <td>0</td>\n",
       "      <td>0</td>\n",
       "      <td>0</td>\n",
       "      <td>0</td>\n",
       "      <td>0</td>\n",
       "      <td>0</td>\n",
       "      <td>0</td>\n",
       "      <td>...</td>\n",
       "      <td>0</td>\n",
       "      <td>0</td>\n",
       "      <td>0</td>\n",
       "      <td>0</td>\n",
       "      <td>0</td>\n",
       "      <td>0</td>\n",
       "      <td>0</td>\n",
       "      <td>0</td>\n",
       "      <td>0</td>\n",
       "      <td>0</td>\n",
       "    </tr>\n",
       "    <tr>\n",
       "      <th>3</th>\n",
       "      <td>0</td>\n",
       "      <td>0</td>\n",
       "      <td>0</td>\n",
       "      <td>0</td>\n",
       "      <td>0</td>\n",
       "      <td>0</td>\n",
       "      <td>0</td>\n",
       "      <td>0</td>\n",
       "      <td>0</td>\n",
       "      <td>0</td>\n",
       "      <td>...</td>\n",
       "      <td>0</td>\n",
       "      <td>0</td>\n",
       "      <td>0</td>\n",
       "      <td>0</td>\n",
       "      <td>0</td>\n",
       "      <td>0</td>\n",
       "      <td>0</td>\n",
       "      <td>0</td>\n",
       "      <td>0</td>\n",
       "      <td>0</td>\n",
       "    </tr>\n",
       "    <tr>\n",
       "      <th>4</th>\n",
       "      <td>0</td>\n",
       "      <td>0</td>\n",
       "      <td>0</td>\n",
       "      <td>0</td>\n",
       "      <td>0</td>\n",
       "      <td>0</td>\n",
       "      <td>0</td>\n",
       "      <td>0</td>\n",
       "      <td>0</td>\n",
       "      <td>0</td>\n",
       "      <td>...</td>\n",
       "      <td>0</td>\n",
       "      <td>0</td>\n",
       "      <td>0</td>\n",
       "      <td>0</td>\n",
       "      <td>0</td>\n",
       "      <td>0</td>\n",
       "      <td>0</td>\n",
       "      <td>0</td>\n",
       "      <td>0</td>\n",
       "      <td>0</td>\n",
       "    </tr>\n",
       "  </tbody>\n",
       "</table>\n",
       "<p>5 rows × 1000 columns</p>\n",
       "</div>"
      ],
      "text/plain": [
       "   0    1    2    3    4    5    6    7    8    9   ...   990  991  992  993  \\\n",
       "0    0    0    0    0    0    0    0    0    0    0 ...     0    0    0    0   \n",
       "1    0    0    0    0    0    0    0    0    0    0 ...     0    0    0    0   \n",
       "2    0    0    0    0    0    0    0    0    0    0 ...     0    0    0    0   \n",
       "3    0    0    0    0    0    0    0    0    0    0 ...     0    0    0    0   \n",
       "4    0    0    0    0    0    0    0    0    0    0 ...     0    0    0    0   \n",
       "\n",
       "   994  995  996  997  998  999  \n",
       "0    0    0    0    0    0    0  \n",
       "1    0    0    0    0    0    0  \n",
       "2    0    0    0    0    0    0  \n",
       "3    0    0    0    0    0    0  \n",
       "4    0    0    0    0    0    0  \n",
       "\n",
       "[5 rows x 1000 columns]"
      ]
     },
     "execution_count": 10,
     "metadata": {},
     "output_type": "execute_result"
    }
   ],
   "source": [
    "X = pd.read_csv('matrix_train.csv', header=None)\n",
    "print(X.shape)\n",
    "X.head()"
   ]
  },
  {
   "cell_type": "code",
   "execution_count": 11,
   "metadata": {},
   "outputs": [
    {
     "data": {
      "text/plain": [
       "(13118, 1000)"
      ]
     },
     "execution_count": 11,
     "metadata": {},
     "output_type": "execute_result"
    }
   ],
   "source": [
    "X.shape"
   ]
  },
  {
   "cell_type": "markdown",
   "metadata": {},
   "source": [
    "## Build Customer and Movie Maps (validation)"
   ]
  },
  {
   "cell_type": "code",
   "execution_count": 12,
   "metadata": {},
   "outputs": [
    {
     "data": {
      "text/plain": [
       "14710"
      ]
     },
     "execution_count": 12,
     "metadata": {},
     "output_type": "execute_result"
    }
   ],
   "source": [
    "customer_map = df_valid.CustomerID.unique()\n",
    "customer_map.sort()\n",
    "customer_map = customer_map[:7020]\n",
    "num_users = len(customer_map)\n",
    "customer_map[-1]"
   ]
  },
  {
   "cell_type": "code",
   "execution_count": 13,
   "metadata": {},
   "outputs": [
    {
     "data": {
      "text/plain": [
       "1000"
      ]
     },
     "execution_count": 13,
     "metadata": {},
     "output_type": "execute_result"
    }
   ],
   "source": [
    "movie_map = df_valid.MovieID.unique()\n",
    "movie_map.sort()\n",
    "movie_map = movie_map[:895]\n",
    "#movie_map\n",
    "num_movies = len(movie_map)\n",
    "movie_map[-1]"
   ]
  },
  {
   "cell_type": "markdown",
   "metadata": {},
   "source": [
    "## Preprocess Data to create User-Movie Matrix (validation)\n",
    "### Uncomment to see how data is preprocessed."
   ]
  },
  {
   "cell_type": "code",
   "execution_count": 14,
   "metadata": {},
   "outputs": [],
   "source": [
    "# file = open('matrix_valid.csv','w')\n",
    "\n",
    "# def temp(i):\n",
    "#     return np.where(movie_map == i)[0][0]\n",
    "\n",
    "\n",
    "# for id_user in customer_map:\n",
    "#     id_movie = df_valid.iloc[:,1][(df_valid.iloc[:,0]==id_user) & (df_valid.iloc[:,1]<=1000)]\n",
    "#     id_movie = id_movie.apply(temp)\n",
    "#     id_rating=df_valid.iloc[:,2][(df_valid.iloc[:,0]==id_user) & (df_valid.iloc[:,1]<=1000)]\n",
    "#     ratings=np.zeros(1000, dtype=np.uint32)\n",
    "#     ratings[id_movie-1]=id_rating\n",
    "#     if sum(ratings)==0:\n",
    "#         continue\n",
    "#     ratings=pd.DataFrame(ratings.reshape(-1, len(ratings)))\n",
    "#     file.write(ratings.to_csv(index=False, header=False))\n",
    "#     del id_movie\n",
    "#     del id_rating\n",
    "#     del ratings\n",
    "\n",
    "\n",
    "# file.close()"
   ]
  },
  {
   "cell_type": "code",
   "execution_count": 15,
   "metadata": {},
   "outputs": [
    {
     "name": "stdout",
     "output_type": "stream",
     "text": [
      "(2255, 1000)\n"
     ]
    },
    {
     "data": {
      "text/html": [
       "<div>\n",
       "<style scoped>\n",
       "    .dataframe tbody tr th:only-of-type {\n",
       "        vertical-align: middle;\n",
       "    }\n",
       "\n",
       "    .dataframe tbody tr th {\n",
       "        vertical-align: top;\n",
       "    }\n",
       "\n",
       "    .dataframe thead th {\n",
       "        text-align: right;\n",
       "    }\n",
       "</style>\n",
       "<table border=\"1\" class=\"dataframe\">\n",
       "  <thead>\n",
       "    <tr style=\"text-align: right;\">\n",
       "      <th></th>\n",
       "      <th>0</th>\n",
       "      <th>1</th>\n",
       "      <th>2</th>\n",
       "      <th>3</th>\n",
       "      <th>4</th>\n",
       "      <th>5</th>\n",
       "      <th>6</th>\n",
       "      <th>7</th>\n",
       "      <th>8</th>\n",
       "      <th>9</th>\n",
       "      <th>...</th>\n",
       "      <th>990</th>\n",
       "      <th>991</th>\n",
       "      <th>992</th>\n",
       "      <th>993</th>\n",
       "      <th>994</th>\n",
       "      <th>995</th>\n",
       "      <th>996</th>\n",
       "      <th>997</th>\n",
       "      <th>998</th>\n",
       "      <th>999</th>\n",
       "    </tr>\n",
       "  </thead>\n",
       "  <tbody>\n",
       "    <tr>\n",
       "      <th>0</th>\n",
       "      <td>0</td>\n",
       "      <td>0</td>\n",
       "      <td>0</td>\n",
       "      <td>0</td>\n",
       "      <td>0</td>\n",
       "      <td>0</td>\n",
       "      <td>0</td>\n",
       "      <td>0</td>\n",
       "      <td>0</td>\n",
       "      <td>0</td>\n",
       "      <td>...</td>\n",
       "      <td>0</td>\n",
       "      <td>0</td>\n",
       "      <td>0</td>\n",
       "      <td>0</td>\n",
       "      <td>0</td>\n",
       "      <td>0</td>\n",
       "      <td>0</td>\n",
       "      <td>0</td>\n",
       "      <td>0</td>\n",
       "      <td>0</td>\n",
       "    </tr>\n",
       "    <tr>\n",
       "      <th>1</th>\n",
       "      <td>0</td>\n",
       "      <td>0</td>\n",
       "      <td>0</td>\n",
       "      <td>0</td>\n",
       "      <td>0</td>\n",
       "      <td>0</td>\n",
       "      <td>0</td>\n",
       "      <td>0</td>\n",
       "      <td>0</td>\n",
       "      <td>0</td>\n",
       "      <td>...</td>\n",
       "      <td>0</td>\n",
       "      <td>0</td>\n",
       "      <td>0</td>\n",
       "      <td>0</td>\n",
       "      <td>0</td>\n",
       "      <td>0</td>\n",
       "      <td>0</td>\n",
       "      <td>0</td>\n",
       "      <td>0</td>\n",
       "      <td>0</td>\n",
       "    </tr>\n",
       "    <tr>\n",
       "      <th>2</th>\n",
       "      <td>0</td>\n",
       "      <td>0</td>\n",
       "      <td>0</td>\n",
       "      <td>0</td>\n",
       "      <td>0</td>\n",
       "      <td>0</td>\n",
       "      <td>0</td>\n",
       "      <td>0</td>\n",
       "      <td>0</td>\n",
       "      <td>0</td>\n",
       "      <td>...</td>\n",
       "      <td>0</td>\n",
       "      <td>0</td>\n",
       "      <td>0</td>\n",
       "      <td>0</td>\n",
       "      <td>0</td>\n",
       "      <td>0</td>\n",
       "      <td>0</td>\n",
       "      <td>0</td>\n",
       "      <td>0</td>\n",
       "      <td>0</td>\n",
       "    </tr>\n",
       "    <tr>\n",
       "      <th>3</th>\n",
       "      <td>0</td>\n",
       "      <td>0</td>\n",
       "      <td>0</td>\n",
       "      <td>0</td>\n",
       "      <td>0</td>\n",
       "      <td>0</td>\n",
       "      <td>0</td>\n",
       "      <td>0</td>\n",
       "      <td>0</td>\n",
       "      <td>5</td>\n",
       "      <td>...</td>\n",
       "      <td>0</td>\n",
       "      <td>0</td>\n",
       "      <td>0</td>\n",
       "      <td>0</td>\n",
       "      <td>0</td>\n",
       "      <td>0</td>\n",
       "      <td>0</td>\n",
       "      <td>0</td>\n",
       "      <td>0</td>\n",
       "      <td>0</td>\n",
       "    </tr>\n",
       "    <tr>\n",
       "      <th>4</th>\n",
       "      <td>0</td>\n",
       "      <td>0</td>\n",
       "      <td>0</td>\n",
       "      <td>0</td>\n",
       "      <td>0</td>\n",
       "      <td>0</td>\n",
       "      <td>0</td>\n",
       "      <td>0</td>\n",
       "      <td>0</td>\n",
       "      <td>0</td>\n",
       "      <td>...</td>\n",
       "      <td>0</td>\n",
       "      <td>0</td>\n",
       "      <td>0</td>\n",
       "      <td>0</td>\n",
       "      <td>0</td>\n",
       "      <td>0</td>\n",
       "      <td>0</td>\n",
       "      <td>0</td>\n",
       "      <td>0</td>\n",
       "      <td>0</td>\n",
       "    </tr>\n",
       "  </tbody>\n",
       "</table>\n",
       "<p>5 rows × 1000 columns</p>\n",
       "</div>"
      ],
      "text/plain": [
       "   0    1    2    3    4    5    6    7    8    9   ...   990  991  992  993  \\\n",
       "0    0    0    0    0    0    0    0    0    0    0 ...     0    0    0    0   \n",
       "1    0    0    0    0    0    0    0    0    0    0 ...     0    0    0    0   \n",
       "2    0    0    0    0    0    0    0    0    0    0 ...     0    0    0    0   \n",
       "3    0    0    0    0    0    0    0    0    0    5 ...     0    0    0    0   \n",
       "4    0    0    0    0    0    0    0    0    0    0 ...     0    0    0    0   \n",
       "\n",
       "   994  995  996  997  998  999  \n",
       "0    0    0    0    0    0    0  \n",
       "1    0    0    0    0    0    0  \n",
       "2    0    0    0    0    0    0  \n",
       "3    0    0    0    0    0    0  \n",
       "4    0    0    0    0    0    0  \n",
       "\n",
       "[5 rows x 1000 columns]"
      ]
     },
     "execution_count": 15,
     "metadata": {},
     "output_type": "execute_result"
    }
   ],
   "source": [
    "X_valid = pd.read_csv('matrix_valid.csv', header=None)\n",
    "print(X_valid.shape)\n",
    "X_valid.head()"
   ]
  },
  {
   "cell_type": "code",
   "execution_count": 16,
   "metadata": {},
   "outputs": [
    {
     "data": {
      "text/plain": [
       "2255"
      ]
     },
     "execution_count": 16,
     "metadata": {},
     "output_type": "execute_result"
    }
   ],
   "source": [
    "X_valid.shape[0]"
   ]
  },
  {
   "cell_type": "markdown",
   "metadata": {},
   "source": [
    "## Build Customer and Movie Maps (test)"
   ]
  },
  {
   "cell_type": "code",
   "execution_count": 17,
   "metadata": {},
   "outputs": [
    {
     "data": {
      "text/plain": [
       "14678"
      ]
     },
     "execution_count": 17,
     "metadata": {},
     "output_type": "execute_result"
    }
   ],
   "source": [
    "customer_map = df_test.CustomerID.unique()\n",
    "customer_map.sort()\n",
    "customer_map = customer_map[:7020]\n",
    "num_users = len(customer_map)\n",
    "customer_map[-1]"
   ]
  },
  {
   "cell_type": "code",
   "execution_count": 18,
   "metadata": {},
   "outputs": [
    {
     "data": {
      "text/plain": [
       "1000"
      ]
     },
     "execution_count": 18,
     "metadata": {},
     "output_type": "execute_result"
    }
   ],
   "source": [
    "movie_map = df_test.MovieID.unique()\n",
    "movie_map.sort()\n",
    "movie_map = movie_map[:901]\n",
    "#movie_map\n",
    "num_movies = len(movie_map)\n",
    "movie_map[-1]"
   ]
  },
  {
   "cell_type": "markdown",
   "metadata": {},
   "source": [
    "## Preprocess Data to create User-Movie Matrix (test)\n",
    "### Uncomment to see how data is preprocessed."
   ]
  },
  {
   "cell_type": "code",
   "execution_count": 19,
   "metadata": {},
   "outputs": [],
   "source": [
    "# file = open('matrix_test.csv','w')\n",
    "\n",
    "# def temp(i):\n",
    "#     return np.where(movie_map == i)[0][0]\n",
    "\n",
    "\n",
    "# for id_user in customer_map:\n",
    "#     id_movie = df_test.iloc[:,1][(df_test.iloc[:,0]==id_user) & (df_test.iloc[:,1]<=1000)]\n",
    "#     id_movie = id_movie.apply(temp)\n",
    "#     id_rating=df_test.iloc[:,2][(df_test.iloc[:,0]==id_user) & (df_test.iloc[:,1]<=1000)]\n",
    "#     ratings=np.zeros(1000, dtype=np.uint32)\n",
    "#     ratings[id_movie-1]=id_rating\n",
    "#     if sum(ratings)==0:\n",
    "#         continue\n",
    "#     ratings=pd.DataFrame(ratings.reshape(-1, len(ratings)))\n",
    "#     file.write(ratings.to_csv(index=False, header=False))\n",
    "#     del id_movie\n",
    "#     del id_rating\n",
    "#     del ratings\n",
    "\n",
    "\n",
    "# file.close()"
   ]
  },
  {
   "cell_type": "code",
   "execution_count": 20,
   "metadata": {},
   "outputs": [
    {
     "name": "stdout",
     "output_type": "stream",
     "text": [
      "(2286, 1000)\n"
     ]
    },
    {
     "data": {
      "text/html": [
       "<div>\n",
       "<style scoped>\n",
       "    .dataframe tbody tr th:only-of-type {\n",
       "        vertical-align: middle;\n",
       "    }\n",
       "\n",
       "    .dataframe tbody tr th {\n",
       "        vertical-align: top;\n",
       "    }\n",
       "\n",
       "    .dataframe thead th {\n",
       "        text-align: right;\n",
       "    }\n",
       "</style>\n",
       "<table border=\"1\" class=\"dataframe\">\n",
       "  <thead>\n",
       "    <tr style=\"text-align: right;\">\n",
       "      <th></th>\n",
       "      <th>0</th>\n",
       "      <th>1</th>\n",
       "      <th>2</th>\n",
       "      <th>3</th>\n",
       "      <th>4</th>\n",
       "      <th>5</th>\n",
       "      <th>6</th>\n",
       "      <th>7</th>\n",
       "      <th>8</th>\n",
       "      <th>9</th>\n",
       "      <th>...</th>\n",
       "      <th>990</th>\n",
       "      <th>991</th>\n",
       "      <th>992</th>\n",
       "      <th>993</th>\n",
       "      <th>994</th>\n",
       "      <th>995</th>\n",
       "      <th>996</th>\n",
       "      <th>997</th>\n",
       "      <th>998</th>\n",
       "      <th>999</th>\n",
       "    </tr>\n",
       "  </thead>\n",
       "  <tbody>\n",
       "    <tr>\n",
       "      <th>0</th>\n",
       "      <td>0</td>\n",
       "      <td>0</td>\n",
       "      <td>0</td>\n",
       "      <td>0</td>\n",
       "      <td>0</td>\n",
       "      <td>0</td>\n",
       "      <td>0</td>\n",
       "      <td>0</td>\n",
       "      <td>0</td>\n",
       "      <td>0</td>\n",
       "      <td>...</td>\n",
       "      <td>0</td>\n",
       "      <td>0</td>\n",
       "      <td>0</td>\n",
       "      <td>0</td>\n",
       "      <td>0</td>\n",
       "      <td>0</td>\n",
       "      <td>0</td>\n",
       "      <td>0</td>\n",
       "      <td>0</td>\n",
       "      <td>0</td>\n",
       "    </tr>\n",
       "    <tr>\n",
       "      <th>1</th>\n",
       "      <td>0</td>\n",
       "      <td>0</td>\n",
       "      <td>0</td>\n",
       "      <td>0</td>\n",
       "      <td>0</td>\n",
       "      <td>0</td>\n",
       "      <td>0</td>\n",
       "      <td>0</td>\n",
       "      <td>0</td>\n",
       "      <td>0</td>\n",
       "      <td>...</td>\n",
       "      <td>0</td>\n",
       "      <td>0</td>\n",
       "      <td>0</td>\n",
       "      <td>0</td>\n",
       "      <td>0</td>\n",
       "      <td>0</td>\n",
       "      <td>0</td>\n",
       "      <td>0</td>\n",
       "      <td>0</td>\n",
       "      <td>0</td>\n",
       "    </tr>\n",
       "    <tr>\n",
       "      <th>2</th>\n",
       "      <td>0</td>\n",
       "      <td>0</td>\n",
       "      <td>0</td>\n",
       "      <td>0</td>\n",
       "      <td>0</td>\n",
       "      <td>0</td>\n",
       "      <td>0</td>\n",
       "      <td>0</td>\n",
       "      <td>0</td>\n",
       "      <td>0</td>\n",
       "      <td>...</td>\n",
       "      <td>0</td>\n",
       "      <td>0</td>\n",
       "      <td>0</td>\n",
       "      <td>0</td>\n",
       "      <td>0</td>\n",
       "      <td>0</td>\n",
       "      <td>0</td>\n",
       "      <td>0</td>\n",
       "      <td>0</td>\n",
       "      <td>0</td>\n",
       "    </tr>\n",
       "    <tr>\n",
       "      <th>3</th>\n",
       "      <td>0</td>\n",
       "      <td>0</td>\n",
       "      <td>0</td>\n",
       "      <td>0</td>\n",
       "      <td>0</td>\n",
       "      <td>0</td>\n",
       "      <td>0</td>\n",
       "      <td>0</td>\n",
       "      <td>0</td>\n",
       "      <td>0</td>\n",
       "      <td>...</td>\n",
       "      <td>0</td>\n",
       "      <td>0</td>\n",
       "      <td>0</td>\n",
       "      <td>0</td>\n",
       "      <td>0</td>\n",
       "      <td>0</td>\n",
       "      <td>0</td>\n",
       "      <td>0</td>\n",
       "      <td>0</td>\n",
       "      <td>0</td>\n",
       "    </tr>\n",
       "    <tr>\n",
       "      <th>4</th>\n",
       "      <td>0</td>\n",
       "      <td>0</td>\n",
       "      <td>0</td>\n",
       "      <td>0</td>\n",
       "      <td>0</td>\n",
       "      <td>0</td>\n",
       "      <td>0</td>\n",
       "      <td>0</td>\n",
       "      <td>0</td>\n",
       "      <td>0</td>\n",
       "      <td>...</td>\n",
       "      <td>0</td>\n",
       "      <td>0</td>\n",
       "      <td>0</td>\n",
       "      <td>0</td>\n",
       "      <td>0</td>\n",
       "      <td>0</td>\n",
       "      <td>0</td>\n",
       "      <td>0</td>\n",
       "      <td>0</td>\n",
       "      <td>0</td>\n",
       "    </tr>\n",
       "  </tbody>\n",
       "</table>\n",
       "<p>5 rows × 1000 columns</p>\n",
       "</div>"
      ],
      "text/plain": [
       "   0    1    2    3    4    5    6    7    8    9   ...   990  991  992  993  \\\n",
       "0    0    0    0    0    0    0    0    0    0    0 ...     0    0    0    0   \n",
       "1    0    0    0    0    0    0    0    0    0    0 ...     0    0    0    0   \n",
       "2    0    0    0    0    0    0    0    0    0    0 ...     0    0    0    0   \n",
       "3    0    0    0    0    0    0    0    0    0    0 ...     0    0    0    0   \n",
       "4    0    0    0    0    0    0    0    0    0    0 ...     0    0    0    0   \n",
       "\n",
       "   994  995  996  997  998  999  \n",
       "0    0    0    0    0    0    0  \n",
       "1    0    0    0    0    0    0  \n",
       "2    0    0    0    0    0    0  \n",
       "3    0    0    0    0    0    0  \n",
       "4    0    0    0    0    0    0  \n",
       "\n",
       "[5 rows x 1000 columns]"
      ]
     },
     "execution_count": 20,
     "metadata": {},
     "output_type": "execute_result"
    }
   ],
   "source": [
    "X_test = pd.read_csv('matrix_test.csv', header=None)\n",
    "print(X_test.shape)\n",
    "X_test.head()"
   ]
  },
  {
   "cell_type": "code",
   "execution_count": 21,
   "metadata": {},
   "outputs": [
    {
     "data": {
      "text/plain": [
       "2286"
      ]
     },
     "execution_count": 21,
     "metadata": {},
     "output_type": "execute_result"
    }
   ],
   "source": [
    "X_test.shape[0]"
   ]
  },
  {
   "cell_type": "markdown",
   "metadata": {},
   "source": [
    "## Create Custom Loss RMSE"
   ]
  },
  {
   "cell_type": "code",
   "execution_count": 22,
   "metadata": {},
   "outputs": [],
   "source": [
    "def rmse(y_true, y_pred):\n",
    "    mask_true = K.cast(K.not_equal(y_true, 0), K.floatx())\n",
    "    masked_squared_error = mask_true * K.square((y_true - y_pred))\n",
    "    masked_mse = K.sum(masked_squared_error, axis=-1) / K.sum(mask_true, axis=-1)\n",
    "    return K.sqrt(masked_mse)"
   ]
  },
  {
   "cell_type": "markdown",
   "metadata": {},
   "source": [
    "## Create the Model"
   ]
  },
  {
   "cell_type": "code",
   "execution_count": 23,
   "metadata": {},
   "outputs": [
    {
     "name": "stdout",
     "output_type": "stream",
     "text": [
      "__________________________________________________________________________________________________\n",
      "Layer (type)                    Output Shape         Param #     Connected to                     \n",
      "==================================================================================================\n",
      "input_1 (InputLayer)            (None, 1000)         0                                            \n",
      "__________________________________________________________________________________________________\n",
      "dense_1 (Dense)                 (None, 28)           28028       input_1[0][0]                    \n",
      "                                                                 dense_6[0][0]                    \n",
      "__________________________________________________________________________________________________\n",
      "dense_2 (Dense)                 (None, 56)           1624        dense_1[0][0]                    \n",
      "                                                                 dense_1[1][0]                    \n",
      "__________________________________________________________________________________________________\n",
      "dense_3 (Dense)                 (None, 56)           3192        dense_2[0][0]                    \n",
      "                                                                 dense_2[1][0]                    \n",
      "__________________________________________________________________________________________________\n",
      "dropout_1 (Dropout)             (None, 56)           0           dense_3[0][0]                    \n",
      "                                                                 dense_3[1][0]                    \n",
      "__________________________________________________________________________________________________\n",
      "dense_4 (Dense)                 (None, 56)           3192        dropout_1[0][0]                  \n",
      "                                                                 dropout_1[1][0]                  \n",
      "__________________________________________________________________________________________________\n",
      "dense_5 (Dense)                 (None, 28)           1596        dense_4[0][0]                    \n",
      "                                                                 dense_4[1][0]                    \n",
      "__________________________________________________________________________________________________\n",
      "dense_6 (Dense)                 (None, 1000)         29000       dense_5[0][0]                    \n",
      "                                                                 dense_5[1][0]                    \n",
      "==================================================================================================\n",
      "Total params: 66,632\n",
      "Trainable params: 66,632\n",
      "Non-trainable params: 0\n",
      "__________________________________________________________________________________________________\n",
      "None\n"
     ]
    }
   ],
   "source": [
    "# Functional Model\n",
    "\n",
    "encoder1 = Dense(28, activation='selu', kernel_initializer='glorot_uniform')\n",
    "encoder2 = Dense(56, activation='selu', kernel_initializer='glorot_uniform')\n",
    "code = Dense(56, activation='selu', kernel_initializer='glorot_uniform')\n",
    "dropout = Dropout(0.65)\n",
    "decoder1 = Dense(56, activation='selu', kernel_initializer='glorot_uniform')\n",
    "decoder2 = Dense(28, activation='selu', kernel_initializer='glorot_uniform')\n",
    "out = Dense(X.shape[1], activation='selu', kernel_initializer='glorot_uniform')\n",
    "\n",
    "\n",
    "input = Input(shape=(1000,))\n",
    "\n",
    "encoded1 = encoder1(input)\n",
    "encoded2 = encoder2(encoded1)\n",
    "coded = code(encoded2)\n",
    "dropped = dropout(coded)\n",
    "decoded1 = decoder1(dropped)\n",
    "decoded2 = decoder2(decoded1)\n",
    "temp_output = out(decoded2)\n",
    "\n",
    "re_encoded1 = encoder1(temp_output)\n",
    "re_encoded2 = encoder2(re_encoded1)\n",
    "re_coded = code(re_encoded2)\n",
    "re_dropped = dropout(re_coded)\n",
    "re_decoded1 = decoder1(re_dropped)\n",
    "re_decoded2 = decoder2(re_decoded1)\n",
    "output = out(re_decoded2)\n",
    "\n",
    "model = Model(inputs=input, outputs=output)\n",
    "print(model.summary())\n",
    "# plot_model(model, to_file='model.png')"
   ]
  },
  {
   "cell_type": "markdown",
   "metadata": {},
   "source": [
    "## Train the Model on the dataset"
   ]
  },
  {
   "cell_type": "code",
   "execution_count": 24,
   "metadata": {},
   "outputs": [
    {
     "name": "stdout",
     "output_type": "stream",
     "text": [
      "Train on 13118 samples, validate on 2255 samples\n",
      "Epoch 1/100\n",
      "13118/13118 [==============================] - 3s 258us/step - loss: 3.4682 - val_loss: 3.4825\n",
      "Epoch 2/100\n",
      "13118/13118 [==============================] - 3s 239us/step - loss: 2.9718 - val_loss: 3.3470\n",
      "Epoch 3/100\n",
      "13118/13118 [==============================] - 3s 200us/step - loss: 2.3671 - val_loss: 3.1541\n",
      "Epoch 4/100\n",
      "13118/13118 [==============================] - 2s 168us/step - loss: 1.7764 - val_loss: 2.9403\n",
      "Epoch 5/100\n",
      "13118/13118 [==============================] - 2s 191us/step - loss: 1.4509 - val_loss: 2.7674\n",
      "Epoch 6/100\n",
      "13118/13118 [==============================] - 2s 180us/step - loss: 1.3061 - val_loss: 2.6425\n",
      "Epoch 7/100\n",
      "13118/13118 [==============================] - 2s 155us/step - loss: 1.2342 - val_loss: 2.5475\n",
      "Epoch 8/100\n",
      "13118/13118 [==============================] - 3s 205us/step - loss: 1.1820 - val_loss: 2.4602\n",
      "Epoch 9/100\n",
      "13118/13118 [==============================] - 3s 195us/step - loss: 1.1510 - val_loss: 2.3944\n",
      "Epoch 10/100\n",
      "13118/13118 [==============================] - 2s 150us/step - loss: 1.1197 - val_loss: 2.3340\n",
      "Epoch 11/100\n",
      "13118/13118 [==============================] - 2s 157us/step - loss: 1.1049 - val_loss: 2.2858\n",
      "Epoch 12/100\n",
      "13118/13118 [==============================] - 2s 162us/step - loss: 1.0842 - val_loss: 2.2307\n",
      "Epoch 13/100\n",
      "13118/13118 [==============================] - 2s 168us/step - loss: 1.0645 - val_loss: 2.1875\n",
      "Epoch 14/100\n",
      "13118/13118 [==============================] - 2s 134us/step - loss: 1.0522 - val_loss: 2.1346\n",
      "Epoch 15/100\n",
      "13118/13118 [==============================] - 2s 128us/step - loss: 1.0355 - val_loss: 2.0964\n",
      "Epoch 16/100\n",
      "13118/13118 [==============================] - 2s 150us/step - loss: 1.0236 - val_loss: 2.0669\n",
      "Epoch 17/100\n",
      "13118/13118 [==============================] - 2s 142us/step - loss: 1.0165 - val_loss: 2.0376\n",
      "Epoch 18/100\n",
      "13118/13118 [==============================] - 2s 153us/step - loss: 1.0028 - val_loss: 2.0069\n",
      "Epoch 19/100\n",
      "13118/13118 [==============================] - 2s 162us/step - loss: 0.9957 - val_loss: 1.9815\n",
      "Epoch 20/100\n",
      "13118/13118 [==============================] - 2s 135us/step - loss: 0.9938 - val_loss: 1.9506\n",
      "Epoch 21/100\n",
      "13118/13118 [==============================] - 2s 139us/step - loss: 0.9809 - val_loss: 1.9301\n",
      "Epoch 22/100\n",
      "13118/13118 [==============================] - 2s 140us/step - loss: 0.9746 - val_loss: 1.9077\n",
      "Epoch 23/100\n",
      "13118/13118 [==============================] - 2s 126us/step - loss: 0.9677 - val_loss: 1.8916\n",
      "Epoch 24/100\n",
      "13118/13118 [==============================] - 2s 138us/step - loss: 0.9634 - val_loss: 1.8690\n",
      "Epoch 25/100\n",
      "13118/13118 [==============================] - 2s 155us/step - loss: 0.9636 - val_loss: 1.8569\n",
      "Epoch 26/100\n",
      "13118/13118 [==============================] - 2s 132us/step - loss: 0.9535 - val_loss: 1.8436\n",
      "Epoch 27/100\n",
      "13118/13118 [==============================] - 2s 130us/step - loss: 0.9521 - val_loss: 1.8227\n",
      "Epoch 28/100\n",
      "13118/13118 [==============================] - 2s 153us/step - loss: 0.9454 - val_loss: 1.8234\n",
      "Epoch 29/100\n",
      "13118/13118 [==============================] - 2s 133us/step - loss: 0.9406 - val_loss: 1.8036\n",
      "Epoch 30/100\n",
      "13118/13118 [==============================] - 2s 136us/step - loss: 0.9325 - val_loss: 1.7966\n",
      "Epoch 31/100\n",
      "13118/13118 [==============================] - 2s 143us/step - loss: 0.9286 - val_loss: 1.7829\n",
      "Epoch 32/100\n",
      "13118/13118 [==============================] - 2s 131us/step - loss: 0.9300 - val_loss: 1.7741\n",
      "Epoch 33/100\n",
      "13118/13118 [==============================] - 2s 140us/step - loss: 0.9222 - val_loss: 1.7712\n",
      "Epoch 34/100\n",
      "13118/13118 [==============================] - 2s 143us/step - loss: 0.9313 - val_loss: 1.7674\n",
      "Epoch 35/100\n",
      "13118/13118 [==============================] - 2s 136us/step - loss: 0.9204 - val_loss: 1.7542\n",
      "Epoch 36/100\n",
      "13118/13118 [==============================] - 2s 141us/step - loss: 0.9171 - val_loss: 1.7446\n",
      "Epoch 37/100\n",
      "13118/13118 [==============================] - 2s 138us/step - loss: 0.9108 - val_loss: 1.7434\n",
      "Epoch 38/100\n",
      "13118/13118 [==============================] - 2s 145us/step - loss: 0.9129 - val_loss: 1.7324\n",
      "Epoch 39/100\n",
      "13118/13118 [==============================] - 2s 137us/step - loss: 0.9110 - val_loss: 1.7252\n",
      "Epoch 40/100\n",
      "13118/13118 [==============================] - 2s 138us/step - loss: 0.9068 - val_loss: 1.7231\n",
      "Epoch 41/100\n",
      "13118/13118 [==============================] - 2s 146us/step - loss: 0.9060 - val_loss: 1.7145\n",
      "Epoch 42/100\n",
      "13118/13118 [==============================] - 2s 132us/step - loss: 0.8996 - val_loss: 1.7109\n",
      "Epoch 43/100\n",
      "13118/13118 [==============================] - 2s 123us/step - loss: 0.8946 - val_loss: 1.7043\n",
      "Epoch 44/100\n",
      "13118/13118 [==============================] - 2s 124us/step - loss: 0.8964 - val_loss: 1.6995\n",
      "Epoch 45/100\n",
      "13118/13118 [==============================] - 2s 126us/step - loss: 0.8883 - val_loss: 1.6916\n",
      "Epoch 46/100\n",
      "13118/13118 [==============================] - 2s 131us/step - loss: 0.8879 - val_loss: 1.6853\n",
      "Epoch 47/100\n",
      "13118/13118 [==============================] - 2s 141us/step - loss: 0.8844 - val_loss: 1.6773\n",
      "Epoch 48/100\n",
      "13118/13118 [==============================] - 2s 152us/step - loss: 0.8862 - val_loss: 1.6749\n",
      "Epoch 49/100\n",
      "13118/13118 [==============================] - 2s 147us/step - loss: 0.8831 - val_loss: 1.6755\n",
      "Epoch 50/100\n",
      "13118/13118 [==============================] - 2s 130us/step - loss: 0.8785 - val_loss: 1.6658\n",
      "Epoch 51/100\n",
      "13118/13118 [==============================] - 2s 140us/step - loss: 0.8764 - val_loss: 1.6577\n",
      "Epoch 52/100\n",
      "13118/13118 [==============================] - 2s 143us/step - loss: 0.8783 - val_loss: 1.6553\n",
      "Epoch 53/100\n",
      "13118/13118 [==============================] - 2s 146us/step - loss: 0.8714 - val_loss: 1.6601\n",
      "Epoch 54/100\n",
      "13118/13118 [==============================] - 2s 137us/step - loss: 0.8716 - val_loss: 1.6482\n",
      "Epoch 55/100\n",
      "13118/13118 [==============================] - 2s 130us/step - loss: 0.8726 - val_loss: 1.6425\n",
      "Epoch 56/100\n",
      "13118/13118 [==============================] - 2s 140us/step - loss: 0.8704 - val_loss: 1.6424\n",
      "Epoch 57/100\n",
      "13118/13118 [==============================] - 2s 132us/step - loss: 0.8688 - val_loss: 1.6409\n",
      "Epoch 58/100\n",
      "13118/13118 [==============================] - 2s 132us/step - loss: 0.8694 - val_loss: 1.6391\n",
      "Epoch 59/100\n",
      "13118/13118 [==============================] - 2s 152us/step - loss: 0.8623 - val_loss: 1.6379\n",
      "Epoch 60/100\n",
      "13118/13118 [==============================] - 2s 133us/step - loss: 0.8611 - val_loss: 1.6364\n",
      "Epoch 61/100\n",
      "13118/13118 [==============================] - 2s 165us/step - loss: 0.8605 - val_loss: 1.6256\n",
      "Epoch 62/100\n",
      "13118/13118 [==============================] - 2s 145us/step - loss: 0.8579 - val_loss: 1.6275\n",
      "Epoch 63/100\n",
      "13118/13118 [==============================] - 2s 148us/step - loss: 0.8599 - val_loss: 1.6173\n",
      "Epoch 64/100\n",
      "13118/13118 [==============================] - 2s 149us/step - loss: 0.8554 - val_loss: 1.6149\n",
      "Epoch 65/100\n",
      "13118/13118 [==============================] - 2s 163us/step - loss: 0.8536 - val_loss: 1.6187\n",
      "Epoch 66/100\n",
      "13118/13118 [==============================] - 2s 144us/step - loss: 0.8513 - val_loss: 1.6162\n",
      "Epoch 67/100\n",
      "13118/13118 [==============================] - 2s 141us/step - loss: 0.8508 - val_loss: 1.6114\n",
      "Epoch 68/100\n",
      "13118/13118 [==============================] - 2s 148us/step - loss: 0.8479 - val_loss: 1.6096\n",
      "Epoch 69/100\n",
      "13118/13118 [==============================] - 2s 143us/step - loss: 0.8464 - val_loss: 1.6038\n",
      "Epoch 70/100\n",
      "13118/13118 [==============================] - 2s 151us/step - loss: 0.8423 - val_loss: 1.6084\n",
      "Epoch 71/100\n",
      "13118/13118 [==============================] - 2s 150us/step - loss: 0.8402 - val_loss: 1.6050\n",
      "Epoch 72/100\n",
      "13118/13118 [==============================] - 2s 131us/step - loss: 0.8374 - val_loss: 1.6015\n",
      "Epoch 73/100\n",
      "13118/13118 [==============================] - 2s 130us/step - loss: 0.8366 - val_loss: 1.5983\n",
      "Epoch 74/100\n",
      "13118/13118 [==============================] - 2s 128us/step - loss: 0.8321 - val_loss: 1.6088\n",
      "Epoch 75/100\n",
      "13118/13118 [==============================] - 2s 129us/step - loss: 0.8248 - val_loss: 1.5981\n",
      "Epoch 76/100\n",
      "13118/13118 [==============================] - 2s 132us/step - loss: 0.8220 - val_loss: 1.5900\n",
      "Epoch 77/100\n",
      "13118/13118 [==============================] - 2s 141us/step - loss: 0.8191 - val_loss: 1.5876\n",
      "Epoch 78/100\n",
      "13118/13118 [==============================] - 2s 139us/step - loss: 0.8144 - val_loss: 1.5863\n",
      "Epoch 79/100\n",
      "13118/13118 [==============================] - 2s 147us/step - loss: 0.8105 - val_loss: 1.5799\n",
      "Epoch 80/100\n",
      "13118/13118 [==============================] - 2s 154us/step - loss: 0.8104 - val_loss: 1.5775\n",
      "Epoch 81/100\n",
      "13118/13118 [==============================] - 2s 136us/step - loss: 0.8104 - val_loss: 1.5726\n",
      "Epoch 82/100\n",
      "13118/13118 [==============================] - 2s 141us/step - loss: 0.8075 - val_loss: 1.5723\n",
      "Epoch 83/100\n",
      "13118/13118 [==============================] - 2s 137us/step - loss: 0.8017 - val_loss: 1.5703\n",
      "Epoch 84/100\n",
      "13118/13118 [==============================] - 2s 149us/step - loss: 0.7997 - val_loss: 1.5607\n",
      "Epoch 85/100\n",
      "13118/13118 [==============================] - 2s 143us/step - loss: 0.8020 - val_loss: 1.5578\n",
      "Epoch 86/100\n",
      "13118/13118 [==============================] - 2s 140us/step - loss: 0.8005 - val_loss: 1.5518\n",
      "Epoch 87/100\n",
      "13118/13118 [==============================] - 2s 141us/step - loss: 0.7958 - val_loss: 1.5488\n",
      "Epoch 88/100\n",
      "13118/13118 [==============================] - 2s 140us/step - loss: 0.7958 - val_loss: 1.5480\n",
      "Epoch 89/100\n",
      "13118/13118 [==============================] - 2s 139us/step - loss: 0.7950 - val_loss: 1.5423\n",
      "Epoch 90/100\n",
      "13118/13118 [==============================] - 2s 138us/step - loss: 0.7926 - val_loss: 1.5423\n",
      "Epoch 91/100\n",
      "13118/13118 [==============================] - 2s 149us/step - loss: 0.7906 - val_loss: 1.5359\n",
      "Epoch 92/100\n",
      "13118/13118 [==============================] - 2s 139us/step - loss: 0.7906 - val_loss: 1.5380\n",
      "Epoch 93/100\n",
      "13118/13118 [==============================] - 2s 138us/step - loss: 0.7896 - val_loss: 1.5312\n",
      "Epoch 94/100\n",
      "13118/13118 [==============================] - 2s 144us/step - loss: 0.7888 - val_loss: 1.5262\n",
      "Epoch 95/100\n",
      "13118/13118 [==============================] - 2s 140us/step - loss: 0.7861 - val_loss: 1.5266\n",
      "Epoch 96/100\n",
      "13118/13118 [==============================] - 2s 142us/step - loss: 0.7861 - val_loss: 1.5261\n",
      "Epoch 97/100\n",
      "13118/13118 [==============================] - 2s 147us/step - loss: 0.7856 - val_loss: 1.5268\n",
      "Epoch 98/100\n",
      "13118/13118 [==============================] - 2s 138us/step - loss: 0.7840 - val_loss: 1.5176\n",
      "Epoch 99/100\n",
      "13118/13118 [==============================] - 2s 134us/step - loss: 0.7850 - val_loss: 1.5154\n",
      "Epoch 100/100\n",
      "13118/13118 [==============================] - 2s 140us/step - loss: 0.7820 - val_loss: 1.5082\n"
     ]
    },
    {
     "data": {
      "text/plain": [
       "<keras.callbacks.History at 0x1ce805728d0>"
      ]
     },
     "execution_count": 24,
     "metadata": {},
     "output_type": "execute_result"
    }
   ],
   "source": [
    "sgd = optimizers.SGD(lr=0.005, momentum=0.9)\n",
    "model.compile(loss=rmse, optimizer=sgd)\n",
    "\n",
    "model.fit(X, X, batch_size=128, epochs=100, validation_data=(X_valid, X_valid), callbacks=[tensorboard])"
   ]
  },
  {
   "cell_type": "markdown",
   "metadata": {},
   "source": [
    "## Test the model on the test set"
   ]
  },
  {
   "cell_type": "code",
   "execution_count": 25,
   "metadata": {},
   "outputs": [
    {
     "name": "stdout",
     "output_type": "stream",
     "text": [
      "2286/2286 [==============================] - 0s 74us/step\n"
     ]
    },
    {
     "data": {
      "text/plain": [
       "1.6073932354635871"
      ]
     },
     "execution_count": 25,
     "metadata": {},
     "output_type": "execute_result"
    }
   ],
   "source": [
    "test_loss = model.evaluate(X_test, X_test)\n",
    "test_loss"
   ]
  }
 ],
 "metadata": {
  "kernelspec": {
   "display_name": "Python 3",
   "language": "python",
   "name": "python3"
  },
  "language_info": {
   "codemirror_mode": {
    "name": "ipython",
    "version": 3
   },
   "file_extension": ".py",
   "mimetype": "text/x-python",
   "name": "python",
   "nbconvert_exporter": "python",
   "pygments_lexer": "ipython3",
   "version": "3.6.7"
  }
 },
 "nbformat": 4,
 "nbformat_minor": 2
}
